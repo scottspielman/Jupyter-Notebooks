{
 "cells": [
  {
   "cell_type": "code",
   "execution_count": 2,
   "metadata": {
    "collapsed": true
   },
   "outputs": [],
   "source": [
    "import cantera as ct\n",
    "import numpy as np"
   ]
  },
  {
   "cell_type": "code",
   "execution_count": 18,
   "metadata": {
    "collapsed": true
   },
   "outputs": [],
   "source": [
    "#GRI-30 database of chemical reactions from berkeley\n",
    "#default is all hydrogen H2\n",
    "gas1 = ct.Solution('gri30.xml')"
   ]
  },
  {
   "cell_type": "code",
   "execution_count": 19,
   "metadata": {
    "collapsed": false
   },
   "outputs": [
    {
     "name": "stdout",
     "output_type": "stream",
     "text": [
      "\n",
      "  gri30:\n",
      "\n",
      "       temperature             300  K\n",
      "          pressure          101325  Pa\n",
      "           density       0.0818891  kg/m^3\n",
      "  mean mol. weight         2.01588  amu\n",
      "\n",
      "                          1 kg            1 kmol\n",
      "                       -----------      ------------\n",
      "          enthalpy           26470        5.336e+04     J\n",
      "   internal energy     -1.2109e+06       -2.441e+06     J\n",
      "           entropy           64914        1.309e+05     J/K\n",
      "    Gibbs function     -1.9448e+07        -3.92e+07     J\n",
      " heat capacity c_p           14312        2.885e+04     J/K\n",
      " heat capacity c_v           10187        2.054e+04     J/K\n",
      "\n",
      "                           X                 Y          Chem. Pot. / RT\n",
      "                     -------------     ------------     ------------\n",
      "                H2              1                1         -15.7173\n",
      "     [  +52 minor]              0                0\n",
      "\n"
     ]
    }
   ],
   "source": [
    "gas1()"
   ]
  },
  {
   "cell_type": "code",
   "execution_count": 20,
   "metadata": {
    "collapsed": true
   },
   "outputs": [],
   "source": [
    "gas1.TP = 1200, 101325 #change temperature to 1200K, pressure remains at 101325pa = 1atm"
   ]
  },
  {
   "cell_type": "code",
   "execution_count": 21,
   "metadata": {
    "collapsed": false
   },
   "outputs": [
    {
     "name": "stdout",
     "output_type": "stream",
     "text": [
      "\n",
      "  gri30:\n",
      "\n",
      "       temperature            1200  K\n",
      "          pressure          101325  Pa\n",
      "           density       0.0204723  kg/m^3\n",
      "  mean mol. weight         2.01588  amu\n",
      "\n",
      "                          1 kg            1 kmol\n",
      "                       -----------      ------------\n",
      "          enthalpy      1.3296e+07         2.68e+07     J\n",
      "   internal energy      8.3462e+06        1.682e+07     J\n",
      "           entropy           85228        1.718e+05     J/K\n",
      "    Gibbs function     -8.8978e+07       -1.794e+08     J\n",
      " heat capacity c_p           15378          3.1e+04     J/K\n",
      " heat capacity c_v           11253        2.269e+04     J/K\n",
      "\n",
      "                           X                 Y          Chem. Pot. / RT\n",
      "                     -------------     ------------     ------------\n",
      "                H2              1                1         -17.9775\n",
      "     [  +52 minor]              0                0\n",
      "\n"
     ]
    }
   ],
   "source": [
    "gas1()"
   ]
  },
  {
   "cell_type": "code",
   "execution_count": 22,
   "metadata": {
    "collapsed": false
   },
   "outputs": [
    {
     "data": {
      "text/plain": [
       "(85227.56537010304, 48.8465747765848)"
      ]
     },
     "execution_count": 22,
     "metadata": {},
     "output_type": "execute_result"
    }
   ],
   "source": [
    "gas1.SV #entropy and specific volume"
   ]
  },
  {
   "cell_type": "code",
   "execution_count": 23,
   "metadata": {
    "collapsed": false
   },
   "outputs": [
    {
     "data": {
      "text/plain": [
       "13295567.68419188"
      ]
     },
     "execution_count": 23,
     "metadata": {},
     "output_type": "execute_result"
    }
   ],
   "source": [
    "gas1.h #returns enthalpy J/g"
   ]
  },
  {
   "cell_type": "code",
   "execution_count": 24,
   "metadata": {
    "collapsed": false
   },
   "outputs": [
    {
     "data": {
      "text/plain": [
       "8346188.494954425"
      ]
     },
     "execution_count": 24,
     "metadata": {},
     "output_type": "execute_result"
    }
   ],
   "source": [
    "gas1.u"
   ]
  },
  {
   "cell_type": "code",
   "execution_count": 37,
   "metadata": {
    "collapsed": false
   },
   "outputs": [
    {
     "data": {
      "text/plain": [
       "'\\nThe composition above is specified as a string, using comma separated list. \\n[<species name>:<relative mole numbers>,] The mole numbers are normalized to\\nproduce mole fractions. Compositions can also be set using an array. Array\\nmust be the same size as the number of species.\\n'"
      ]
     },
     "execution_count": 37,
     "metadata": {},
     "output_type": "execute_result"
    }
   ],
   "source": [
    "#GRI-30 database of chemical reactions from berkeley\n",
    "#creates an object for gas2 with GRI-30 elemental reactions and rate constants\n",
    "gas2 = ct.Solution('gri30.xml') \n",
    "#create gas composition\n",
    "gas2.TPX = 1200, 101325, 'CH4:1, O2:2, N2:7.52'\n",
    "\"\"\"\n",
    "The composition above is specified as a string, using comma separated list. \n",
    "[<species name>:<relative mole numbers>,] The mole numbers are normalized to\n",
    "produce mole fractions. Compositions can also be set using an array. Array\n",
    "must be the same size as the number of species.\n",
    "\"\"\""
   ]
  },
  {
   "cell_type": "code",
   "execution_count": 43,
   "metadata": {
    "collapsed": false
   },
   "outputs": [
    {
     "name": "stdout",
     "output_type": "stream",
     "text": [
      "\n",
      "  gri30:\n",
      "\n",
      "       temperature            1200  K\n",
      "          pressure          101325  Pa\n",
      "           density        0.280629  kg/m^3\n",
      "  mean mol. weight         27.6332  amu\n",
      "\n",
      "                          1 kg            1 kmol\n",
      "                       -----------      ------------\n",
      "          enthalpy      8.6194e+05        2.382e+07     J\n",
      "   internal energy      5.0088e+05        1.384e+07     J\n",
      "           entropy          8914.3        2.463e+05     J/K\n",
      "    Gibbs function     -9.8352e+06       -2.718e+08     J\n",
      " heat capacity c_p          1397.3        3.861e+04     J/K\n",
      " heat capacity c_v          1096.4         3.03e+04     J/K\n",
      "\n",
      "                           X                 Y          Chem. Pot. / RT\n",
      "                     -------------     ------------     ------------\n",
      "                O2       0.190114         0.220149         -28.7472\n",
      "               CH4       0.095057        0.0551863          -35.961\n",
      "                N2       0.714829         0.724665         -25.6789\n",
      "     [  +50 minor]              0                0\n",
      "\n"
     ]
    }
   ],
   "source": [
    "gas2()"
   ]
  },
  {
   "cell_type": "code",
   "execution_count": 44,
   "metadata": {
    "collapsed": true
   },
   "outputs": [],
   "source": [
    "gas2.equilibrate('TP')"
   ]
  },
  {
   "cell_type": "code",
   "execution_count": 45,
   "metadata": {
    "collapsed": false
   },
   "outputs": [
    {
     "name": "stdout",
     "output_type": "stream",
     "text": [
      "    0  -4.281e-15  \n",
      "    1   2.882e-15  \n",
      "    2   5.603e-16  \n",
      "    3   7.184e-15  \n",
      "    4  -1.701e-15  \n",
      "    5   3.649e-15  \n",
      "    6   1.073e-14  \n",
      "    7  -3.853e-15  \n",
      "    8  -3.578e-15  \n",
      "    9   -3.31e-15  \n",
      "   10   3.811e-15  \n",
      "   11   2.896e-15  \n",
      "   12   3.786e-15  \n",
      "   13  -1.046e-14  \n",
      "   14   1.403e-14  \n",
      "   15   7.283e-15  \n",
      "   16  -3.245e-15  \n",
      "   17   1.769e-14  \n",
      "   18   1.841e-14  \n",
      "   19   1.058e-14  \n",
      "   20  -1.806e-14  \n",
      "   21  -7.272e-15  \n",
      "   22  -1.072e-14  \n",
      "   23  -3.588e-15  \n",
      "   24   5.223e-15  \n",
      "   25  -3.555e-15  \n",
      "   26   1.873e-14  \n",
      "   27   1.162e-14  \n",
      "   28   2.707e-15  \n",
      "   29  -2.114e-16  \n",
      "   30     5.9e-15  \n",
      "   31   1.227e-14  \n",
      "   32   2.562e-15  \n",
      "   33   9.697e-15  \n",
      "   34   9.704e-15  \n",
      "   35   9.428e-15  \n",
      "   37   7.225e-15  \n",
      "   38   5.997e-15  \n",
      "   39   6.125e-15  \n",
      "   40   5.898e-15  \n",
      "   41   5.893e-15  \n",
      "   42  -7.806e-15  \n",
      "   43   2.311e-16  \n",
      "   44   3.484e-15  \n",
      "   45   1.102e-14  \n",
      "   46  -5.857e-15  \n",
      "   47   3.666e-15  \n",
      "   48  -1.872e-15  \n",
      "   49   6.365e-15  \n",
      "   50  -2.218e-15  \n",
      "   51  -5.757e-16  \n",
      "   52   3.523e-16  \n",
      "   53  -4.124e-15  \n",
      "   54  -2.501e-16  \n",
      "   55    4.36e-15  \n",
      "   56   5.094e-15  \n",
      "   57   1.005e-14  \n",
      "   58  -8.004e-15  \n",
      "   59   3.319e-15  \n",
      "   60   4.909e-16  \n",
      "   61   2.218e-15  \n",
      "   62  -7.886e-15  \n",
      "   63           0  \n",
      "   64  -2.118e-16  \n",
      "   65           0  \n",
      "   66    1.81e-15  \n",
      "   67   1.468e-14  \n",
      "   68   1.467e-14  \n",
      "   69   1.337e-14  \n",
      "   70  -1.328e-14  \n",
      "   71   1.337e-14  \n",
      "   72   2.116e-14  \n",
      "   73   4.548e-15  \n",
      "   74  -4.631e-15  \n",
      "   75  -1.136e-14  \n",
      "   76  -3.519e-16  \n",
      "   77   1.479e-14  \n",
      "   78   1.593e-14  \n",
      "   79  -1.225e-15  \n",
      "   80   1.049e-14  \n",
      "   81  -5.085e-15  \n",
      "   82  -7.505e-15  \n",
      "   83  -5.914e-15  \n",
      "   84  -2.637e-15  \n",
      "   85  -8.884e-15  \n",
      "   86   2.121e-16  \n",
      "   87  -5.358e-15  \n",
      "   88  -5.243e-15  \n",
      "   89           0  \n",
      "   90   1.258e-16  \n",
      "   91   1.707e-16  \n",
      "   92   3.322e-15  \n",
      "   93  -1.039e-14  \n",
      "   94  -8.045e-15  \n",
      "   95  -7.237e-15  \n",
      "   96    1.61e-15  \n",
      "   97  -1.152e-14  \n",
      "   98  -6.859e-15  \n",
      "   99  -6.911e-15  \n",
      "  100   -1.78e-16  \n",
      "  101  -7.207e-15  \n",
      "  102  -6.959e-15  \n",
      "  103    3.48e-15  \n",
      "  104   3.395e-15  \n",
      "  105  -1.066e-14  \n",
      "  106  -1.936e-14  \n",
      "  107  -1.428e-14  \n",
      "  108   -1.37e-14  \n",
      "  109  -7.138e-15  \n",
      "  110   1.407e-14  \n",
      "  111  -1.576e-14  \n",
      "  112    9.02e-15  \n",
      "  113  -1.264e-14  \n",
      "  114   5.415e-15  \n",
      "  115   5.428e-15  \n",
      "  116    1.45e-14  \n",
      "  117   1.589e-16  \n",
      "  118   8.881e-15  \n",
      "  119   3.701e-15  \n",
      "  120   4.916e-15  \n",
      "  121   1.424e-14  \n",
      "  122   3.756e-15  \n",
      "  123   7.211e-15  \n",
      "  124   3.476e-15  \n",
      "  125  -8.967e-15  \n",
      "  126  -2.934e-15  \n",
      "  127   1.466e-14  \n",
      "  128  -1.012e-14  \n",
      "  129  -3.309e-15  \n",
      "  130  -7.597e-15  \n",
      "  131   3.655e-15  \n",
      "  132  -6.596e-15  \n",
      "  133   2.162e-14  \n",
      "  135   3.501e-15  \n",
      "  136   2.142e-14  \n",
      "  137   3.548e-15  \n",
      "  138   7.224e-15  \n",
      "  139  -3.957e-15  \n",
      "  140   3.395e-16  \n",
      "  141   -1.18e-14  \n",
      "  143   4.476e-15  \n",
      "  144  -3.323e-15  \n",
      "  145  -7.721e-15  \n",
      "  146  -1.148e-14  \n",
      "  147  -9.085e-15  \n",
      "  148  -1.076e-14  \n",
      "  149  -3.637e-15  \n",
      "  150  -1.174e-14  \n",
      "  151   -1.45e-14  \n",
      "  152  -3.576e-15  \n",
      "  153   5.383e-15  \n",
      "  154   3.524e-15  \n",
      "  155   7.189e-15  \n",
      "  156  -6.354e-15  \n",
      "  157  -1.515e-14  \n",
      "  158  -1.624e-15  \n",
      "  159           0  \n",
      "  160   4.154e-15  \n",
      "  161   1.448e-14  \n",
      "  162   1.504e-14  \n",
      "  163  -1.064e-14  \n",
      "  164   2.075e-14  \n",
      "  165  -4.546e-15  \n",
      "  166  -4.405e-15  \n",
      "  167   3.446e-15  \n",
      "  168   3.469e-15  \n",
      "  169   3.404e-15  \n",
      "  170   1.071e-14  \n",
      "  171   7.707e-15  \n",
      "  172   1.774e-14  \n",
      "  173   9.668e-15  \n",
      "  174  -1.096e-14  \n",
      "  175   1.868e-14  \n",
      "  176   2.937e-14  \n",
      "  177   -1.85e-16  \n",
      "  178  -1.828e-15  \n",
      "  179   -7.31e-15  \n",
      "  180   3.568e-15  \n",
      "  181   3.534e-15  \n",
      "  182    1.07e-14  \n",
      "  183    6.79e-15  \n",
      "  184   6.039e-15  \n",
      "  185   1.144e-14  \n",
      "  186   2.693e-15  \n",
      "  187  -7.118e-15  \n",
      "  188   3.582e-15  \n",
      "  189  -7.033e-15  \n",
      "  190   5.235e-15  \n",
      "  191  -2.156e-15  \n",
      "  192   -3.55e-15  \n",
      "  193    6.54e-15  \n",
      "  194   7.225e-15  \n",
      "  195  -3.502e-15  \n",
      "  196   2.054e-15  \n",
      "  197   3.713e-15  \n",
      "  198  -6.926e-15  \n",
      "  199   5.391e-15  \n",
      "  200   3.716e-15  \n",
      "  201   4.819e-15  \n",
      "  202  -1.988e-15  \n",
      "  203  -2.703e-15  \n",
      "  204  -2.566e-15  \n",
      "  205   -3.48e-16  \n",
      "  206  -2.017e-16  \n",
      "  207  -2.882e-16  \n",
      "  208   2.909e-15  \n",
      "  209  -3.661e-15  \n",
      "  210  -3.613e-15  \n",
      "  211    6.33e-15  \n",
      "  212           0  \n",
      "  213  -2.605e-16  \n",
      "  214  -3.472e-15  \n",
      "  215  -4.205e-15  \n",
      "  216   7.379e-15  \n",
      "  217  -8.556e-15  \n",
      "  218   1.075e-14  \n",
      "  219  -2.827e-15  \n",
      "  220  -6.275e-16  \n",
      "  221   1.087e-14  \n",
      "  222   1.045e-14  \n",
      "  223   7.001e-15  \n",
      "  224   1.056e-14  \n",
      "  225   1.081e-14  \n",
      "  226   1.154e-14  \n",
      "  227   2.082e-16  \n",
      "  228   1.781e-14  \n",
      "  229  -6.341e-15  \n",
      "  230  -8.112e-15  \n",
      "  231   1.666e-15  \n",
      "  232   9.389e-16  \n",
      "  233  -7.102e-15  \n",
      "  234  -7.011e-15  \n",
      "  235  -1.709e-15  \n",
      "  236   1.512e-15  \n",
      "  237  -3.727e-15  \n",
      "  238   1.062e-14  \n",
      "  239  -4.122e-16  \n",
      "  240  -8.694e-15  \n",
      "  241   5.206e-15  \n",
      "  242  -6.513e-15  \n",
      "  243   5.163e-15  \n",
      "  244   1.441e-14  \n",
      "  245  -3.345e-15  \n",
      "  246  -1.028e-14  \n",
      "  247   7.433e-15  \n",
      "  248    4.32e-16  \n",
      "  249   1.073e-14  \n",
      "  250   1.908e-15  \n",
      "  251  -1.375e-14  \n",
      "  252           0  \n",
      "  253  -8.934e-15  \n",
      "  254  -1.881e-16  \n",
      "  255   1.174e-16  \n",
      "  256   1.475e-14  \n",
      "  257   1.029e-14  \n",
      "  258   1.134e-14  \n",
      "  259   4.107e-15  \n",
      "  260   3.218e-15  \n",
      "  261   5.106e-15  \n",
      "  262   1.593e-14  \n",
      "  263  -4.322e-15  \n",
      "  264   4.933e-15  \n",
      "  265  -7.587e-15  \n",
      "  266  -1.325e-15  \n",
      "  267  -2.153e-15  \n",
      "  268   4.017e-15  \n",
      "  269   3.804e-15  \n",
      "  270   1.069e-14  \n",
      "  271   6.998e-15  \n",
      "  272   1.831e-16  \n",
      "  273   1.061e-14  \n",
      "  274    -8.9e-15  \n",
      "  275  -2.998e-16  \n",
      "  276           0  \n",
      "  277  -1.114e-14  \n",
      "  278     3.5e-15  \n",
      "  279     9.5e-15  \n",
      "  280  -6.822e-15  \n",
      "  281   7.302e-15  \n",
      "  282  -3.435e-15  \n",
      "  284   7.406e-15  \n",
      "  285   1.615e-16  \n",
      "  286           0  \n",
      "  288   -3.63e-16  \n",
      "  290   3.566e-15  \n",
      "  293   1.851e-14  \n",
      "  294    2.18e-14  \n",
      "  295   8.833e-15  \n",
      "  298     4.9e-15  \n",
      "  303   1.672e-14  \n",
      "  307  -1.997e-15  \n",
      "  308  -1.087e-14  \n",
      "  309  -1.407e-14  \n",
      "  310  -1.888e-15  \n",
      "  311   1.359e-14  \n",
      "  312  -2.911e-15  \n",
      "  313   -6.16e-15  \n",
      "  314  -1.824e-14  \n",
      "  315   2.266e-16  \n",
      "  316  -1.829e-14  \n",
      "  317   1.816e-15  \n",
      "  318   3.875e-15  \n",
      "  319   1.387e-14  \n",
      "  320   2.225e-16  \n",
      "  321  -1.761e-15  \n",
      "  322   1.836e-14  \n",
      "  324   7.933e-16  \n"
     ]
    }
   ],
   "source": [
    "rf = gas2.forward_rates_of_progress\n",
    "rr = gas2.reverse_rates_of_progress\n",
    "for i in range(gas2.n_reactions):\n",
    "    if gas2.is_reversible(i) and rf[i] != 0.0:\n",
    "        print(' %4i  %10.4g  ' % (i, (rf[i] - rr[i])/rf[i]))"
   ]
  },
  {
   "cell_type": "code",
   "execution_count": 46,
   "metadata": {
    "collapsed": false
   },
   "outputs": [
    {
     "name": "stdout",
     "output_type": "stream",
     "text": [
      "\n",
      "  gri30:\n",
      "\n",
      "       temperature            1200  K\n",
      "          pressure          101325  Pa\n",
      "           density        0.280629  kg/m^3\n",
      "  mean mol. weight         27.6332  amu\n",
      "\n",
      "                          1 kg            1 kmol\n",
      "                       -----------      ------------\n",
      "          enthalpy     -1.8994e+06       -5.249e+07     J\n",
      "   internal energy     -2.2605e+06       -6.246e+07     J\n",
      "           entropy          8907.2        2.461e+05     J/K\n",
      "    Gibbs function     -1.2588e+07       -3.478e+08     J\n",
      " heat capacity c_p          1367.5        3.779e+04     J/K\n",
      " heat capacity c_v          1066.6        2.947e+04     J/K\n",
      "\n",
      "                           X                 Y          Chem. Pot. / RT\n",
      "                     -------------     ------------     ------------\n",
      "                H2    2.03006e-06      1.48095e-07          -31.085\n",
      "                 H    2.81182e-10      1.02563e-11         -15.5425\n",
      "                 O    2.98202e-11      1.72656e-11         -20.2773\n",
      "                O2    1.41608e-06       1.6398e-06         -40.5547\n",
      "                OH    2.10293e-07      1.29429e-07         -35.8198\n",
      "               H2O       0.190112         0.123942         -51.3623\n",
      "               HO2    2.45479e-12      2.93215e-12         -56.0971\n",
      "              H2O2    5.45588e-12      6.71584e-12         -71.6396\n",
      "                CO    1.39362e-06      1.41264e-06           -50.66\n",
      "               CO2      0.0950555         0.151389         -70.9374\n",
      "               NH3    4.70712e-13      2.90104e-13         -59.4669\n",
      "                NO    4.86335e-07      5.28098e-07         -33.1168\n",
      "               NO2    2.14109e-11      3.56462e-11         -53.3941\n",
      "               N2O    3.26657e-11      5.20284e-11         -45.9562\n",
      "               HNO    1.16046e-13      1.30245e-13         -48.6593\n",
      "                N2       0.714827         0.724665         -25.6789\n",
      "     [  +37 minor]    2.06941e-15      3.02155e-15\n",
      "\n"
     ]
    }
   ],
   "source": [
    "gas2()"
   ]
  },
  {
   "cell_type": "code",
   "execution_count": null,
   "metadata": {
    "collapsed": true
   },
   "outputs": [],
   "source": []
  }
 ],
 "metadata": {
  "kernelspec": {
   "display_name": "Python [Root]",
   "language": "python",
   "name": "Python [Root]"
  },
  "language_info": {
   "codemirror_mode": {
    "name": "ipython",
    "version": 2
   },
   "file_extension": ".py",
   "mimetype": "text/x-python",
   "name": "python",
   "nbconvert_exporter": "python",
   "pygments_lexer": "ipython2",
   "version": "2.7.12"
  }
 },
 "nbformat": 4,
 "nbformat_minor": 0
}
