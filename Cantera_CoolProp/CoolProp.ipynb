{
 "cells": [
  {
   "cell_type": "code",
   "execution_count": 2,
   "metadata": {
    "collapsed": false
   },
   "outputs": [],
   "source": [
    "from CoolProp.CoolProp import PropsSI\n",
    "from CoolProp.CoolProp import HAPropsSI"
   ]
  },
  {
   "cell_type": "code",
   "execution_count": 3,
   "metadata": {
    "collapsed": false
   },
   "outputs": [
    {
     "name": "stdout",
     "output_type": "stream",
     "text": [
      "(u'6.1.0', u'7864c2614ce5a0ef972386ee7f39859f0d3f8038')\n"
     ]
    }
   ],
   "source": [
    "import CoolProp; print(CoolProp.__version__, CoolProp.__gitrevision__)"
   ]
  },
  {
   "cell_type": "code",
   "execution_count": 33,
   "metadata": {
    "collapsed": false
   },
   "outputs": [
    {
     "name": "stdout",
     "output_type": "stream",
     "text": [
      "361.068186256\n",
      "905.860292257\n",
      "3.88048916476\n",
      "4.05151219347\n",
      "0.171023028705\n"
     ]
    }
   ],
   "source": [
    "# Density of carbon dioxide at 100 bar and 25C\n",
    "T_CO2 = PropsSI('T', 'D', 298.15, 'P', 100e5, 'CO2')\n",
    "D_CO2 = PropsSI('D', 'T', 298.15, 'P', 100e5, 'CO2')\n",
    "\n",
    "s_air1 = PropsSI('S', 'T', 298.15, 'P', 101325, 'AIR')\n",
    "h_air1 = PropsSI('H', 'T', 298.15, 'P', 101325, 'AIR')\n",
    "\n",
    "\n",
    "h_air2s = PropsSI('H', 'P', 101325*16, 'S', s_air1, 'AIR')\n",
    "\n",
    "h_air2 = ((h_air2s - h_air1)/0.75) + h_air1\n",
    "\n",
    "s_air2 = PropsSI('S', 'H', h_air2, 'P', 101325*16, 'AIR')\n",
    "\n",
    "print((h_air2s - h_air1)/1000)\n",
    "print(h_air2/1000)\n",
    "\n",
    "print(s_air1/1000)\n",
    "print(s_air2/1000)\n",
    "\n",
    "print((s_air2-s_air1)/1000)"
   ]
  },
  {
   "cell_type": "code",
   "execution_count": 20,
   "metadata": {
    "collapsed": false
   },
   "outputs": [],
   "source": [
    "# Saturated vapor enthalpy [J/kg] of R134a at 25C\n",
    "H_R134a_vap = PropsSI('H', 'T', 298.15, 'Q', 1, 'R134a')"
   ]
  },
  {
   "cell_type": "code",
   "execution_count": 21,
   "metadata": {
    "collapsed": false
   },
   "outputs": [
    {
     "data": {
      "text/plain": [
       "412333.95323186804"
      ]
     },
     "execution_count": 21,
     "metadata": {},
     "output_type": "execute_result"
    }
   ],
   "source": [
    "H_R134a_vap"
   ]
  },
  {
   "cell_type": "code",
   "execution_count": 60,
   "metadata": {
    "collapsed": false
   },
   "outputs": [],
   "source": [
    "wb = HAPropsSI('P','T',298.15,'P',101325,'R',0.9)\n",
    "db = HAPropsSI('P_w','T',298.15,'P',101325,'R',0.9)"
   ]
  },
  {
   "cell_type": "code",
   "execution_count": 61,
   "metadata": {
    "collapsed": false
   },
   "outputs": [
    {
     "data": {
      "text/plain": [
       "101325.0"
      ]
     },
     "execution_count": 61,
     "metadata": {},
     "output_type": "execute_result"
    }
   ],
   "source": [
    "wb"
   ]
  },
  {
   "cell_type": "code",
   "execution_count": 62,
   "metadata": {
    "collapsed": false
   },
   "outputs": [
    {
     "data": {
      "text/plain": [
       "2864.9941340023197"
      ]
     },
     "execution_count": 62,
     "metadata": {},
     "output_type": "execute_result"
    }
   ],
   "source": [
    "db"
   ]
  },
  {
   "cell_type": "code",
   "execution_count": null,
   "metadata": {
    "collapsed": true
   },
   "outputs": [],
   "source": []
  }
 ],
 "metadata": {
  "anaconda-cloud": {},
  "kernelspec": {
   "display_name": "Python [Root]",
   "language": "python",
   "name": "Python [Root]"
  },
  "language_info": {
   "codemirror_mode": {
    "name": "ipython",
    "version": 2
   },
   "file_extension": ".py",
   "mimetype": "text/x-python",
   "name": "python",
   "nbconvert_exporter": "python",
   "pygments_lexer": "ipython2",
   "version": "2.7.12"
  }
 },
 "nbformat": 4,
 "nbformat_minor": 0
}
