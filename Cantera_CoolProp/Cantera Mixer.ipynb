{
 "cells": [
  {
   "cell_type": "code",
   "execution_count": 8,
   "metadata": {
    "collapsed": false
   },
   "outputs": [],
   "source": [
    "import cantera as ct\n",
    "import numpy as np"
   ]
  },
  {
   "cell_type": "code",
   "execution_count": 9,
   "metadata": {
    "collapsed": false
   },
   "outputs": [],
   "source": [
    "# Use air for stream a.\n",
    "gas_a = ct.Solution('air.xml')\n",
    "gas_a.TPX = 300.0, ct.one_atm, 'O2:0.21, N2:0.78, AR:0.01'\n",
    "rho_a = gas_a.density"
   ]
  },
  {
   "cell_type": "code",
   "execution_count": 10,
   "metadata": {
    "collapsed": true
   },
   "outputs": [],
   "source": [
    "# Use GRI-Mech 3.0 for stream b (methane) and for the mixer. If it is desired\n",
    "# to have a pure mixer, with no chemistry, use instead a reaction mechanism\n",
    "# for gas_b that has no reactions.\n",
    "gas_b = ct.Solution('gri30.xml')\n",
    "gas_b.TPX = 300.0, ct.one_atm, 'CH4:1'\n",
    "rho_b = gas_b.density"
   ]
  },
  {
   "cell_type": "code",
   "execution_count": 11,
   "metadata": {
    "collapsed": true
   },
   "outputs": [],
   "source": [
    "# Create reservoirs for the two inlet streams and for the outlet stream.  The\n",
    "# upsteam reservoirs could be replaced by reactors, which might themselves be\n",
    "# connected to reactors further upstream. The outlet reservoir could be\n",
    "# replaced with a reactor with no outlet, if it is desired to integrate the\n",
    "# composition leaving the mixer in time, or by an arbitrary network of\n",
    "# downstream reactors.\n",
    "res_a = ct.Reservoir(gas_a)\n",
    "res_b = ct.Reservoir(gas_b)\n",
    "downstream = ct.Reservoir(gas_b)"
   ]
  },
  {
   "cell_type": "code",
   "execution_count": 12,
   "metadata": {
    "collapsed": true
   },
   "outputs": [],
   "source": [
    "# Create a reactor for the mixer. A reactor is required instead of a\n",
    "# reservoir, since the state will change with time if the inlet mass flow\n",
    "# rates change or if there is chemistry occurring.\n",
    "gas_b.TPX = 300.0, ct.one_atm, 'O2:0.21, N2:0.78, AR:0.01'\n",
    "mixer = ct.IdealGasReactor(gas_b)"
   ]
  },
  {
   "cell_type": "code",
   "execution_count": 13,
   "metadata": {
    "collapsed": true
   },
   "outputs": [],
   "source": [
    "# create two mass flow controllers connecting the upstream reservoirs to the\n",
    "# mixer, and set their mass flow rates to values corresponding to\n",
    "# stoichiometric combustion.\n",
    "mfc1 = ct.MassFlowController(res_a, mixer, mdot=rho_a*2.5/0.21)\n",
    "mfc2 = ct.MassFlowController(res_b, mixer, mdot=rho_b*1.0)"
   ]
  },
  {
   "cell_type": "code",
   "execution_count": 14,
   "metadata": {
    "collapsed": true
   },
   "outputs": [],
   "source": [
    "# connect the mixer to the downstream reservoir with a valve.\n",
    "outlet = ct.Valve(mixer, downstream, K=10.0)"
   ]
  },
  {
   "cell_type": "code",
   "execution_count": 15,
   "metadata": {
    "collapsed": true
   },
   "outputs": [],
   "source": [
    "sim = ct.ReactorNet([mixer])"
   ]
  },
  {
   "cell_type": "code",
   "execution_count": 16,
   "metadata": {
    "collapsed": true
   },
   "outputs": [],
   "source": [
    "# Since the mixer is a reactor, we need to integrate in time to reach steady\n",
    "# state\n",
    "sim.advance_to_steady_state()"
   ]
  },
  {
   "cell_type": "code",
   "execution_count": 17,
   "metadata": {
    "collapsed": false
   },
   "outputs": [
    {
     "name": "stdout",
     "output_type": "stream",
     "text": [
      "\n",
      "  gri30:\n",
      "\n",
      "       temperature             300  K\n",
      "          pressure          101326  Pa\n",
      "           density         1.13613  kg/m^3\n",
      "  mean mol. weight          27.968  amu\n",
      "\n",
      "                          1 kg            1 kmol\n",
      "                       -----------      ------------\n",
      "          enthalpy      -2.047e+05       -5.725e+06     J\n",
      "   internal energy     -2.9388e+05       -8.219e+06     J\n",
      "           entropy          7158.9        2.002e+05     J/K\n",
      "    Gibbs function     -2.3524e+06       -6.579e+07     J\n",
      " heat capacity c_p          1057.6        2.958e+04     J/K\n",
      " heat capacity c_v          760.27        2.126e+04     J/K\n",
      "\n",
      "                           X                 Y          Chem. Pot. / RT\n",
      "                     -------------     ------------     ------------\n",
      "                O2       0.193727         0.221647          -26.315\n",
      "               CH4      0.0774908        0.0444495         -54.8804\n",
      "                N2       0.719557         0.720727         -23.3622\n",
      "                AR     0.00922509        0.0131766         -23.2959\n",
      "     [  +49 minor]   -1.53191e-26      3.40447e-27\n",
      "\n"
     ]
    }
   ],
   "source": [
    "# view the state of the gas in the mixer\n",
    "print(mixer.thermo.report())"
   ]
  },
  {
   "cell_type": "code",
   "execution_count": null,
   "metadata": {
    "collapsed": true
   },
   "outputs": [],
   "source": []
  }
 ],
 "metadata": {
  "kernelspec": {
   "display_name": "Python [Root]",
   "language": "python",
   "name": "Python [Root]"
  },
  "language_info": {
   "codemirror_mode": {
    "name": "ipython",
    "version": 2
   },
   "file_extension": ".py",
   "mimetype": "text/x-python",
   "name": "python",
   "nbconvert_exporter": "python",
   "pygments_lexer": "ipython2",
   "version": "2.7.12"
  }
 },
 "nbformat": 4,
 "nbformat_minor": 0
}
