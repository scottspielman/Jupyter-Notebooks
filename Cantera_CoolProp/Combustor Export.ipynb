{
 "cells": [
  {
   "cell_type": "code",
   "execution_count": 8,
   "metadata": {
    "collapsed": true
   },
   "outputs": [],
   "source": [
    "\"\"\"\n",
    "A combustor. Two separate stream - one pure methane and the other air, both at\n",
    "300 K and 1 atm flow into an adiabatic combustor where they mix and burn.\n",
    "\n",
    "We are interested in the steady-state burning solution. Since at 300 K no\n",
    "reaction will occur between methane and air, we need to use an 'igniter' to\n",
    "initiate the chemistry. A simple igniter is a pulsed flow of atomic hydrogen.\n",
    "After the igniter is turned off, the system approaches the steady burning\n",
    "solution.\n",
    "\"\"\"\n",
    "\n",
    "import math\n",
    "import csv\n",
    "\n",
    "import cantera as ct"
   ]
  },
  {
   "cell_type": "code",
   "execution_count": 9,
   "metadata": {
    "collapsed": true
   },
   "outputs": [],
   "source": [
    "# use reaction mechanism GRI-Mech 3.0\n",
    "\n",
    "gas = ct.Solution('gri30.xml')"
   ]
  },
  {
   "cell_type": "code",
   "execution_count": 10,
   "metadata": {
    "collapsed": true
   },
   "outputs": [],
   "source": [
    "# create a reservoir for the fuel inlet, and set to pure methane.\n",
    "gas.TPX = 300.0, ct.one_atm, 'CH4:1.0'\n",
    "fuel_in = ct.Reservoir(gas)\n",
    "fuel_mw = gas.mean_molecular_weight\n",
    "\n",
    "# use predefined function Air() for the air inlet\n",
    "air = ct.Solution('air.xml')\n",
    "air_in = ct.Reservoir(air)\n",
    "air_mw = air.mean_molecular_weight"
   ]
  },
  {
   "cell_type": "code",
   "execution_count": 11,
   "metadata": {
    "collapsed": true
   },
   "outputs": [],
   "source": [
    "# to ignite the fuel/air mixture, we'll introduce a pulse of radicals. The\n",
    "# steady-state behavior is independent of how we do this, so we'll just use a\n",
    "# stream of pure atomic hydrogen.\n",
    "gas.TPX = 300.0, ct.one_atm, 'H:1.0'\n",
    "igniter = ct.Reservoir(gas)\n",
    "\n",
    "# create the combustor, and fill it in initially with N2\n",
    "gas.TPX = 300.0, ct.one_atm, 'N2:1.0'\n",
    "combustor = ct.IdealGasReactor(gas)\n",
    "combustor.volume = 1.0"
   ]
  },
  {
   "cell_type": "code",
   "execution_count": 12,
   "metadata": {
    "collapsed": true
   },
   "outputs": [],
   "source": [
    "# create a reservoir for the exhaust\n",
    "exhaust = ct.Reservoir(gas)\n",
    "\n",
    "# lean combustion, phi = 0.5\n",
    "equiv_ratio = 0.5\n",
    "\n",
    "# compute fuel and air mass flow rates\n",
    "factor = 0.1\n",
    "air_mdot = factor * 9.52 * air_mw\n",
    "fuel_mdot = factor * equiv_ratio * fuel_mw"
   ]
  },
  {
   "cell_type": "code",
   "execution_count": 13,
   "metadata": {
    "collapsed": true
   },
   "outputs": [],
   "source": [
    "# create and install the mass flow controllers. Controllers m1 and m2 provide\n",
    "# constant mass flow rates, and m3 provides a short Gaussian pulse only to\n",
    "# ignite the mixture\n",
    "m1 = ct.MassFlowController(fuel_in, combustor, mdot=fuel_mdot)\n",
    "\n",
    "# note that this connects two reactors with different reaction mechanisms and\n",
    "# different numbers of species. Downstream and upstream species are matched by\n",
    "# name.\n",
    "m2 = ct.MassFlowController(air_in, combustor, mdot=air_mdot)\n",
    "\n",
    "# The igniter will use a Gaussian time-dependent mass flow rate.\n",
    "fwhm = 0.2\n",
    "amplitude = 0.1\n",
    "t0 = 1.0\n",
    "igniter_mdot = lambda t: amplitude * math.exp(-(t-t0)**2 * 4 * math.log(2) / fwhm**2)\n",
    "m3 = ct.MassFlowController(igniter, combustor, mdot=igniter_mdot)\n",
    "\n",
    "# put a valve on the exhaust line to regulate the pressure\n",
    "v = ct.Valve(combustor, exhaust, K=1.0)\n",
    "\n",
    "# the simulation only contains one reactor\n",
    "sim = ct.ReactorNet([combustor])\n",
    "\n",
    "# take single steps to 6 s, writing the results to a CSV file for later\n",
    "# plotting.\n",
    "tfinal = 6.0\n",
    "tnow = 0.0\n",
    "Tprev = combustor.T\n",
    "tprev = tnow\n",
    "states = ct.SolutionArray(gas, extra=['t','tres'])\n",
    "\n",
    "while tnow < tfinal:\n",
    "    tnow = sim.step()\n",
    "    tres = combustor.mass/v.mdot(tnow)\n",
    "    Tnow = combustor.T\n",
    "    if abs(Tnow - Tprev) > 1.0 or tnow-tprev > 2e-2:\n",
    "        tprev = tnow\n",
    "        Tprev = Tnow\n",
    "        states.append(gas.state, t=tnow, tres=tres)\n",
    "\n",
    "states.write_csv('combustor.csv', cols=('t','T','tres','X'))"
   ]
  },
  {
   "cell_type": "code",
   "execution_count": null,
   "metadata": {
    "collapsed": true
   },
   "outputs": [],
   "source": []
  }
 ],
 "metadata": {
  "kernelspec": {
   "display_name": "Python [Root]",
   "language": "python",
   "name": "Python [Root]"
  },
  "language_info": {
   "codemirror_mode": {
    "name": "ipython",
    "version": 2
   },
   "file_extension": ".py",
   "mimetype": "text/x-python",
   "name": "python",
   "nbconvert_exporter": "python",
   "pygments_lexer": "ipython2",
   "version": "2.7.12"
  }
 },
 "nbformat": 4,
 "nbformat_minor": 0
}
