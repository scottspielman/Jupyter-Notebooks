{
 "cells": [
  {
   "cell_type": "code",
   "execution_count": 31,
   "metadata": {
    "collapsed": false
   },
   "outputs": [
    {
     "name": "stdout",
     "output_type": "stream",
     "text": [
      "Populating the interactive namespace from numpy and matplotlib\n"
     ]
    }
   ],
   "source": [
    "import os\n",
    "import pandas as pd\n",
    "import numpy as np\n",
    "import matplotlib.pyplot as plt\n",
    "import sqlite3\n",
    "\n",
    "import matplotlib\n",
    "matplotlib.style.use('ggplot')\n",
    "\n",
    "\n",
    "%pylab inline"
   ]
  },
  {
   "cell_type": "code",
   "execution_count": 32,
   "metadata": {
    "collapsed": true
   },
   "outputs": [],
   "source": [
    "filename = 'in.sql'"
   ]
  },
  {
   "cell_type": "code",
   "execution_count": 33,
   "metadata": {
    "collapsed": false
   },
   "outputs": [],
   "source": [
    "#open file with con for connect\n",
    "con = sqlite3.connect(os.path.join(filename))\n",
    "#text for sql querie\n",
    "sql_querie = \"Select Value as \\\"Yearly Usage\\\", Rowname as \\\"End Use\\\", ColumnName as \\\"Utility\\\", Units from TabularDataWithStrings WHERE ReportName = \\\"AnnualBuildingUtilityPerformanceSummary\\\" and TableName = \\\"End Uses\\\" and Value != \\\"        0.00\\\" and Value !=\\\"\\\" and Rowname != \\\"Total End Uses\\\"\""
   ]
  },
  {
   "cell_type": "code",
   "execution_count": 94,
   "metadata": {
    "collapsed": false
   },
   "outputs": [
    {
     "data": {
      "text/html": [
       "<div>\n",
       "<table border=\"1\" class=\"dataframe\">\n",
       "  <thead>\n",
       "    <tr style=\"text-align: right;\">\n",
       "      <th></th>\n",
       "      <th>Yearly Usage</th>\n",
       "      <th>End Use</th>\n",
       "      <th>Utility</th>\n",
       "      <th>Units</th>\n",
       "    </tr>\n",
       "  </thead>\n",
       "  <tbody>\n",
       "    <tr>\n",
       "      <th>0</th>\n",
       "      <td>2450.88</td>\n",
       "      <td>Cooling</td>\n",
       "      <td>Electricity</td>\n",
       "      <td>GJ</td>\n",
       "    </tr>\n",
       "    <tr>\n",
       "      <th>1</th>\n",
       "      <td>2223.25</td>\n",
       "      <td>Interior Lighting</td>\n",
       "      <td>Electricity</td>\n",
       "      <td>GJ</td>\n",
       "    </tr>\n",
       "    <tr>\n",
       "      <th>2</th>\n",
       "      <td>7043.29</td>\n",
       "      <td>Interior Equipment</td>\n",
       "      <td>Electricity</td>\n",
       "      <td>GJ</td>\n",
       "    </tr>\n",
       "    <tr>\n",
       "      <th>3</th>\n",
       "      <td>4461.20</td>\n",
       "      <td>Fans</td>\n",
       "      <td>Electricity</td>\n",
       "      <td>GJ</td>\n",
       "    </tr>\n",
       "    <tr>\n",
       "      <th>4</th>\n",
       "      <td>152.39</td>\n",
       "      <td>Pumps</td>\n",
       "      <td>Electricity</td>\n",
       "      <td>GJ</td>\n",
       "    </tr>\n",
       "    <tr>\n",
       "      <th>5</th>\n",
       "      <td>19656.45</td>\n",
       "      <td>Heating</td>\n",
       "      <td>Natural Gas</td>\n",
       "      <td>GJ</td>\n",
       "    </tr>\n",
       "  </tbody>\n",
       "</table>\n",
       "</div>"
      ],
      "text/plain": [
       "   Yearly Usage             End Use      Utility Units\n",
       "0       2450.88             Cooling  Electricity    GJ\n",
       "1       2223.25   Interior Lighting  Electricity    GJ\n",
       "2       7043.29  Interior Equipment  Electricity    GJ\n",
       "3       4461.20                Fans  Electricity    GJ\n",
       "4        152.39               Pumps  Electricity    GJ\n",
       "5      19656.45             Heating  Natural Gas    GJ"
      ]
     },
     "execution_count": 94,
     "metadata": {},
     "output_type": "execute_result"
    }
   ],
   "source": [
    "df = pd.read_sql_query(sql_querie, con)\n",
    "df = df.drop(df.index[[6]])\n",
    "df"
   ]
  },
  {
   "cell_type": "code",
   "execution_count": 93,
   "metadata": {
    "collapsed": false,
    "scrolled": true
   },
   "outputs": [
    {
     "data": {
      "image/png": "[encoded data removed]",
      "text/plain": [
       "<matplotlib.figure.Figure at 0xc17d1d0>"
      ]
     },
     "metadata": {},
     "output_type": "display_data"
    }
   ],
   "source": [
    "#chart atrributes\n",
    "pie_colors = ['#C01041','#68448E','#0288BD','#D0DD3E','#F26645','#01B8AA']\n",
    "explode = [0,0,0,0,0,0]\n",
    "\n",
    "#create figure pie1 with ax1\n",
    "pie1, ax1 = plt.subplots()\n",
    "ax1.pie(df['Yearly Usage'], labels = df['End Use'], autopct='%1.1f%%', colors = pie_colors, shadow=True, explode = explode, pctdistance = 0.5)\n",
    "ax1.axis('equal')\n",
    "\n",
    "#adds black border, sets width, and color\n",
    "plt.rcParams['patch.linewidth'] = 0.5 \n",
    "plt.rcParams['patch.edgecolor'] = 'black' \n",
    "\n",
    "#draw a circle at the center of pie1 to make it look like a donut\n",
    "center_circle = plt.Circle((0,0),0.65,color='black',fc='white',linewidth=0.5)\n",
    "fig =  plt.gcf()\n",
    "fig.gca().add_artist(center_circle)\n",
    "\n",
    "#show plot\n",
    "plt.show(pie1)\n"
   ]
  },
  {
   "cell_type": "code",
   "execution_count": null,
   "metadata": {
    "collapsed": true
   },
   "outputs": [],
   "source": []
  },
  {
   "cell_type": "code",
   "execution_count": null,
   "metadata": {
    "collapsed": true
   },
   "outputs": [],
   "source": []
  }
 ],
 "metadata": {
  "kernelspec": {
   "display_name": "Python [Root]",
   "language": "python",
   "name": "Python [Root]"
  },
  "language_info": {
   "codemirror_mode": {
    "name": "ipython",
    "version": 2
   },
   "file_extension": ".py",
   "mimetype": "text/x-python",
   "name": "python",
   "nbconvert_exporter": "python",
   "pygments_lexer": "ipython2",
   "version": "2.7.12"
  }
 },
 "nbformat": 4,
 "nbformat_minor": 0
}
