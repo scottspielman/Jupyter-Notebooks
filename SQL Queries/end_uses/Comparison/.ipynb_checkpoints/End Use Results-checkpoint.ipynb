{
 "cells": [
  {
   "cell_type": "code",
   "execution_count": 31,
   "metadata": {
    "collapsed": false
   },
   "outputs": [
    {
     "name": "stdout",
     "output_type": "stream",
     "text": [
      "Populating the interactive namespace from numpy and matplotlib\n"
     ]
    }
   ],
   "source": [
    "import os\n",
    "import pandas as pd\n",
    "import numpy as np\n",
    "import matplotlib.pyplot as plt\n",
    "import sqlite3\n",
    "\n",
    "import matplotlib\n",
    "matplotlib.style.use('ggplot')\n",
    "\n",
    "\n",
    "%pylab inline"
   ]
  },
  {
   "cell_type": "code",
   "execution_count": 32,
   "metadata": {
    "collapsed": true
   },
   "outputs": [],
   "source": [
    "#filepaths for baseline and proposed SQL files\n",
    "baseline_file = 'baseline.sql'\n",
    "proposed_file = 'proposed.sql'"
   ]
  },
  {
   "cell_type": "code",
   "execution_count": 33,
   "metadata": {
    "collapsed": true
   },
   "outputs": [],
   "source": [
    "#open file with con for connect for baseline file\n",
    "con_baseline = sqlite3.connect(os.path.join(baseline_file))\n",
    "#open file with con for connect for proposed file\n",
    "con_proposed = sqlite3.connect(os.path.join(proposed_file))"
   ]
  },
  {
   "cell_type": "code",
   "execution_count": 34,
   "metadata": {
    "collapsed": true
   },
   "outputs": [],
   "source": [
    "#text for sql querie\n",
    "sql_querie = \"Select Value as \\\"Yearly Usage\\\", Rowname as \\\"End Use\\\", ColumnName as \\\"Utility\\\", Units from TabularDataWithStrings WHERE ReportName = \\\"AnnualBuildingUtilityPerformanceSummary\\\" and TableName = \\\"End Uses\\\" and Value != \\\"        0.00\\\" and Value !=\\\"\\\" and Rowname != \\\"Total End Uses\\\"\""
   ]
  },
  {
   "cell_type": "code",
   "execution_count": 35,
   "metadata": {
    "collapsed": false
   },
   "outputs": [
    {
     "data": {
      "text/html": [
       "<div>\n",
       "<table border=\"1\" class=\"dataframe\">\n",
       "  <thead>\n",
       "    <tr style=\"text-align: right;\">\n",
       "      <th></th>\n",
       "      <th>Yearly Usage</th>\n",
       "      <th>End Use</th>\n",
       "      <th>Utility</th>\n",
       "      <th>Units</th>\n",
       "    </tr>\n",
       "  </thead>\n",
       "  <tbody>\n",
       "    <tr>\n",
       "      <th>0</th>\n",
       "      <td>3746.13</td>\n",
       "      <td>Cooling</td>\n",
       "      <td>Electricity</td>\n",
       "      <td>GJ</td>\n",
       "    </tr>\n",
       "    <tr>\n",
       "      <th>1</th>\n",
       "      <td>2223.25</td>\n",
       "      <td>Interior Lighting</td>\n",
       "      <td>Electricity</td>\n",
       "      <td>GJ</td>\n",
       "    </tr>\n",
       "    <tr>\n",
       "      <th>2</th>\n",
       "      <td>7043.29</td>\n",
       "      <td>Interior Equipment</td>\n",
       "      <td>Electricity</td>\n",
       "      <td>GJ</td>\n",
       "    </tr>\n",
       "    <tr>\n",
       "      <th>3</th>\n",
       "      <td>6595.47</td>\n",
       "      <td>Fans</td>\n",
       "      <td>Electricity</td>\n",
       "      <td>GJ</td>\n",
       "    </tr>\n",
       "    <tr>\n",
       "      <th>4</th>\n",
       "      <td>47.52</td>\n",
       "      <td>Pumps</td>\n",
       "      <td>Electricity</td>\n",
       "      <td>GJ</td>\n",
       "    </tr>\n",
       "    <tr>\n",
       "      <th>5</th>\n",
       "      <td>24601.40</td>\n",
       "      <td>Heating</td>\n",
       "      <td>Natural Gas</td>\n",
       "      <td>GJ</td>\n",
       "    </tr>\n",
       "  </tbody>\n",
       "</table>\n",
       "</div>"
      ],
      "text/plain": [
       "   Yearly Usage             End Use      Utility Units\n",
       "0       3746.13             Cooling  Electricity    GJ\n",
       "1       2223.25   Interior Lighting  Electricity    GJ\n",
       "2       7043.29  Interior Equipment  Electricity    GJ\n",
       "3       6595.47                Fans  Electricity    GJ\n",
       "4         47.52               Pumps  Electricity    GJ\n",
       "5      24601.40             Heating  Natural Gas    GJ"
      ]
     },
     "execution_count": 35,
     "metadata": {},
     "output_type": "execute_result"
    }
   ],
   "source": [
    "#create baseline end use database\n",
    "df_baseline = pd.read_sql_query(sql_querie, con_baseline)\n",
    "df_baseline = df_baseline.drop(df_baseline.index[[6]])\n",
    "df_baseline"
   ]
  },
  {
   "cell_type": "code",
   "execution_count": 36,
   "metadata": {
    "collapsed": false
   },
   "outputs": [
    {
     "data": {
      "text/html": [
       "<div>\n",
       "<table border=\"1\" class=\"dataframe\">\n",
       "  <thead>\n",
       "    <tr style=\"text-align: right;\">\n",
       "      <th></th>\n",
       "      <th>Yearly Usage</th>\n",
       "      <th>End Use</th>\n",
       "      <th>Utility</th>\n",
       "      <th>Units</th>\n",
       "    </tr>\n",
       "  </thead>\n",
       "  <tbody>\n",
       "    <tr>\n",
       "      <th>0</th>\n",
       "      <td>2450.88</td>\n",
       "      <td>Cooling</td>\n",
       "      <td>Electricity</td>\n",
       "      <td>GJ</td>\n",
       "    </tr>\n",
       "    <tr>\n",
       "      <th>1</th>\n",
       "      <td>2223.25</td>\n",
       "      <td>Interior Lighting</td>\n",
       "      <td>Electricity</td>\n",
       "      <td>GJ</td>\n",
       "    </tr>\n",
       "    <tr>\n",
       "      <th>2</th>\n",
       "      <td>7043.29</td>\n",
       "      <td>Interior Equipment</td>\n",
       "      <td>Electricity</td>\n",
       "      <td>GJ</td>\n",
       "    </tr>\n",
       "    <tr>\n",
       "      <th>3</th>\n",
       "      <td>4461.20</td>\n",
       "      <td>Fans</td>\n",
       "      <td>Electricity</td>\n",
       "      <td>GJ</td>\n",
       "    </tr>\n",
       "    <tr>\n",
       "      <th>4</th>\n",
       "      <td>152.39</td>\n",
       "      <td>Pumps</td>\n",
       "      <td>Electricity</td>\n",
       "      <td>GJ</td>\n",
       "    </tr>\n",
       "    <tr>\n",
       "      <th>5</th>\n",
       "      <td>19656.45</td>\n",
       "      <td>Heating</td>\n",
       "      <td>Natural Gas</td>\n",
       "      <td>GJ</td>\n",
       "    </tr>\n",
       "  </tbody>\n",
       "</table>\n",
       "</div>"
      ],
      "text/plain": [
       "   Yearly Usage             End Use      Utility Units\n",
       "0       2450.88             Cooling  Electricity    GJ\n",
       "1       2223.25   Interior Lighting  Electricity    GJ\n",
       "2       7043.29  Interior Equipment  Electricity    GJ\n",
       "3       4461.20                Fans  Electricity    GJ\n",
       "4        152.39               Pumps  Electricity    GJ\n",
       "5      19656.45             Heating  Natural Gas    GJ"
      ]
     },
     "execution_count": 36,
     "metadata": {},
     "output_type": "execute_result"
    }
   ],
   "source": [
    "#create baseline end use database\n",
    "df_proposed = pd.read_sql_query(sql_querie, con_proposed)\n",
    "df_proposed = df_proposed.drop(df_proposed.index[[6]])\n",
    "df_proposed"
   ]
  },
  {
   "cell_type": "code",
   "execution_count": 37,
   "metadata": {
    "collapsed": false
   },
   "outputs": [
    {
     "data": {
      "text/html": [
       "<div>\n",
       "<table border=\"1\" class=\"dataframe\">\n",
       "  <thead>\n",
       "    <tr style=\"text-align: right;\">\n",
       "      <th></th>\n",
       "      <th>End Use</th>\n",
       "      <th>Proposed Energy Usage [GJ]</th>\n",
       "      <th>Baseline Energy Usage [GJ]</th>\n",
       "      <th>Savings [GJ]</th>\n",
       "      <th>Percent Savings [%]</th>\n",
       "    </tr>\n",
       "  </thead>\n",
       "  <tbody>\n",
       "    <tr>\n",
       "      <th>0</th>\n",
       "      <td>Cooling</td>\n",
       "      <td>2450.88</td>\n",
       "      <td>3746.13</td>\n",
       "      <td>1295.25</td>\n",
       "      <td>34.575682</td>\n",
       "    </tr>\n",
       "    <tr>\n",
       "      <th>1</th>\n",
       "      <td>Interior Lighting</td>\n",
       "      <td>2223.25</td>\n",
       "      <td>2223.25</td>\n",
       "      <td>0.00</td>\n",
       "      <td>0.000000</td>\n",
       "    </tr>\n",
       "    <tr>\n",
       "      <th>2</th>\n",
       "      <td>Interior Equipment</td>\n",
       "      <td>7043.29</td>\n",
       "      <td>7043.29</td>\n",
       "      <td>0.00</td>\n",
       "      <td>0.000000</td>\n",
       "    </tr>\n",
       "    <tr>\n",
       "      <th>3</th>\n",
       "      <td>Fans</td>\n",
       "      <td>4461.20</td>\n",
       "      <td>6595.47</td>\n",
       "      <td>2134.27</td>\n",
       "      <td>32.359635</td>\n",
       "    </tr>\n",
       "    <tr>\n",
       "      <th>4</th>\n",
       "      <td>Pumps</td>\n",
       "      <td>152.39</td>\n",
       "      <td>47.52</td>\n",
       "      <td>-104.87</td>\n",
       "      <td>-220.686027</td>\n",
       "    </tr>\n",
       "    <tr>\n",
       "      <th>5</th>\n",
       "      <td>Heating</td>\n",
       "      <td>19656.45</td>\n",
       "      <td>24601.40</td>\n",
       "      <td>4944.95</td>\n",
       "      <td>20.100279</td>\n",
       "    </tr>\n",
       "  </tbody>\n",
       "</table>\n",
       "</div>"
      ],
      "text/plain": [
       "              End Use Proposed Energy Usage [GJ] Baseline Energy Usage [GJ]  \\\n",
       "0             Cooling                    2450.88                    3746.13   \n",
       "1   Interior Lighting                    2223.25                    2223.25   \n",
       "2  Interior Equipment                    7043.29                    7043.29   \n",
       "3                Fans                    4461.20                    6595.47   \n",
       "4               Pumps                     152.39                      47.52   \n",
       "5             Heating                   19656.45                   24601.40   \n",
       "\n",
       "   Savings [GJ]  Percent Savings [%]  \n",
       "0       1295.25            34.575682  \n",
       "1          0.00             0.000000  \n",
       "2          0.00             0.000000  \n",
       "3       2134.27            32.359635  \n",
       "4       -104.87          -220.686027  \n",
       "5       4944.95            20.100279  "
      ]
     },
     "execution_count": 37,
     "metadata": {},
     "output_type": "execute_result"
    }
   ],
   "source": [
    "#create a dataframe with both proposed and baseline model and difference w/ savings.\n",
    "df = pd.merge(df_proposed, df_baseline, how = 'inner', on = 'End Use') #join tables on End Use\n",
    "df = df.rename(index = str, columns={'Yearly Usage_x':'Proposed Energy Usage [GJ]','Yearly Usage_y':'Baseline Energy Usage [GJ]','Units_x':'Units'}) #rename strings\n",
    "df['Savings [GJ]'] = df['Baseline Energy Usage [GJ]'].astype('float64') - df['Proposed Energy Usage [GJ]'].astype('float64') #subtract uses. convert dtype to float\n",
    "df['Percent Savings [%]'] = (df['Savings [GJ]'] / df['Baseline Energy Usage [GJ]'].astype('float64'))*100 #calculate percentage\n",
    "df = df[['End Use','Proposed Energy Usage [GJ]','Baseline Energy Usage [GJ]','Savings [GJ]','Percent Savings [%]']] #Choose columns to show in df\n",
    "df"
   ]
  },
  {
   "cell_type": "code",
   "execution_count": 38,
   "metadata": {
    "collapsed": false
   },
   "outputs": [
    {
     "data": {
      "image/png": "[encoded data removed]",
      "text/plain": [
       "<matplotlib.figure.Figure at 0xb878400>"
      ]
     },
     "metadata": {},
     "output_type": "display_data"
    }
   ],
   "source": [
    "#chart atrributes\n",
    "pie_colors = ['#C01041','#68448E','#0288BD','#D0DD3E','#F26645','#01B8AA']\n",
    "explode = [0,0,0,0,0,0]\n",
    "\n",
    "#create figure pie1 with ax1\n",
    "pie1, ax1 = plt.subplots()\n",
    "ax1.pie(df_baseline['Yearly Usage'], labels = df_baseline['End Use'], autopct='%1.1f%%', colors = pie_colors, shadow=True, explode = explode, pctdistance = 0.5)\n",
    "ax1.axis('equal')\n",
    "\n",
    "#adds black border, sets width, and color\n",
    "plt.rcParams['patch.linewidth'] = 0.5 \n",
    "plt.rcParams['patch.edgecolor'] = 'black' \n",
    "\n",
    "#draw a circle at the center of pie1 to make it look like a donut\n",
    "center_circle = plt.Circle((0,0),0.65,color='black',fc='white',linewidth=0.5)\n",
    "fig =  plt.gcf()\n",
    "fig.gca().add_artist(center_circle)\n",
    "\n",
    "#set title\n",
    "ttl = plt.title('Baseline End Use Breakdown')\n",
    "ttl.set_position([.5, 1.1])\n",
    "\n",
    "#show plot\n",
    "plt.show(pie1)"
   ]
  },
  {
   "cell_type": "code",
   "execution_count": 39,
   "metadata": {
    "collapsed": false
   },
   "outputs": [
    {
     "data": {
      "image/png": "[encoded data removed]",
      "text/plain": [
       "<matplotlib.figure.Figure at 0xbce85f8>"
      ]
     },
     "metadata": {},
     "output_type": "display_data"
    }
   ],
   "source": [
    "#chart atrributes\n",
    "pie_colors = ['#C01041','#68448E','#0288BD','#D0DD3E','#F26645','#01B8AA']\n",
    "explode = [0,0,0,0,0,0]\n",
    "\n",
    "#create figure pie2 with ax2\n",
    "pie2, ax2 = plt.subplots()\n",
    "ax2.pie(df_proposed['Yearly Usage'], labels = df_proposed['End Use'], autopct='%1.1f%%', colors = pie_colors, shadow=True, explode = explode, pctdistance = 0.5)\n",
    "ax2.axis('equal')\n",
    "\n",
    "#adds black border, sets width, and color\n",
    "plt.rcParams['patch.linewidth'] = 0.5 \n",
    "plt.rcParams['patch.edgecolor'] = 'black' \n",
    "\n",
    "#draw a circle at the center of pie2 to make it look like a donut\n",
    "center_circle = plt.Circle((0,0),0.65,color='black',fc='white',linewidth=0.5)\n",
    "fig =  plt.gcf()\n",
    "fig.gca().add_artist(center_circle)\n",
    "\n",
    "#set title\n",
    "ttl = plt.title('Proposed End Use Breakdown')\n",
    "ttl.set_position([.5, 1.1])\n",
    "\n",
    "#show plot\n",
    "plt.tight_layout(pad=2)\n",
    "plt.show()\n"
   ]
  },
  {
   "cell_type": "code",
   "execution_count": 40,
   "metadata": {
    "collapsed": false
   },
   "outputs": [
    {
     "data": {
      "text/html": [
       "<div>\n",
       "<table border=\"1\" class=\"dataframe\">\n",
       "  <thead>\n",
       "    <tr style=\"text-align: right;\">\n",
       "      <th></th>\n",
       "      <th>End Use</th>\n",
       "      <th>Proposed Energy Usage [GJ]</th>\n",
       "      <th>Baseline Energy Usage [GJ]</th>\n",
       "      <th>Savings [GJ]</th>\n",
       "      <th>Percent Savings [%]</th>\n",
       "    </tr>\n",
       "  </thead>\n",
       "  <tbody>\n",
       "    <tr>\n",
       "      <th>0</th>\n",
       "      <td>Cooling</td>\n",
       "      <td>2450.88</td>\n",
       "      <td>3746.13</td>\n",
       "      <td>1295.25</td>\n",
       "      <td>34.575682</td>\n",
       "    </tr>\n",
       "    <tr>\n",
       "      <th>1</th>\n",
       "      <td>Interior Lighting</td>\n",
       "      <td>2223.25</td>\n",
       "      <td>2223.25</td>\n",
       "      <td>0.00</td>\n",
       "      <td>0.000000</td>\n",
       "    </tr>\n",
       "    <tr>\n",
       "      <th>2</th>\n",
       "      <td>Interior Equipment</td>\n",
       "      <td>7043.29</td>\n",
       "      <td>7043.29</td>\n",
       "      <td>0.00</td>\n",
       "      <td>0.000000</td>\n",
       "    </tr>\n",
       "    <tr>\n",
       "      <th>3</th>\n",
       "      <td>Fans</td>\n",
       "      <td>4461.20</td>\n",
       "      <td>6595.47</td>\n",
       "      <td>2134.27</td>\n",
       "      <td>32.359635</td>\n",
       "    </tr>\n",
       "    <tr>\n",
       "      <th>4</th>\n",
       "      <td>Pumps</td>\n",
       "      <td>152.39</td>\n",
       "      <td>47.52</td>\n",
       "      <td>-104.87</td>\n",
       "      <td>-220.686027</td>\n",
       "    </tr>\n",
       "    <tr>\n",
       "      <th>5</th>\n",
       "      <td>Heating</td>\n",
       "      <td>19656.45</td>\n",
       "      <td>24601.40</td>\n",
       "      <td>4944.95</td>\n",
       "      <td>20.100279</td>\n",
       "    </tr>\n",
       "  </tbody>\n",
       "</table>\n",
       "</div>"
      ],
      "text/plain": [
       "              End Use Proposed Energy Usage [GJ] Baseline Energy Usage [GJ]  \\\n",
       "0             Cooling                    2450.88                    3746.13   \n",
       "1   Interior Lighting                    2223.25                    2223.25   \n",
       "2  Interior Equipment                    7043.29                    7043.29   \n",
       "3                Fans                    4461.20                    6595.47   \n",
       "4               Pumps                     152.39                      47.52   \n",
       "5             Heating                   19656.45                   24601.40   \n",
       "\n",
       "   Savings [GJ]  Percent Savings [%]  \n",
       "0       1295.25            34.575682  \n",
       "1          0.00             0.000000  \n",
       "2          0.00             0.000000  \n",
       "3       2134.27            32.359635  \n",
       "4       -104.87          -220.686027  \n",
       "5       4944.95            20.100279  "
      ]
     },
     "execution_count": 40,
     "metadata": {},
     "output_type": "execute_result"
    }
   ],
   "source": [
    "df"
   ]
  },
  {
   "cell_type": "code",
   "execution_count": 42,
   "metadata": {
    "collapsed": false
   },
   "outputs": [
    {
     "ename": "ValueError",
     "evalue": "incompatible sizes: argument 'height' must be length 1 or scalar",
     "output_type": "error",
     "traceback": [
      "\u001b[1;31m---------------------------------------------------------------------------\u001b[0m",
      "\u001b[1;31mValueError\u001b[0m                                Traceback (most recent call last)",
      "\u001b[1;32m<ipython-input-42-f81ee21b2497>\u001b[0m in \u001b[0;36m<module>\u001b[1;34m()\u001b[0m\n\u001b[0;32m      7\u001b[0m \u001b[1;31m#create bar chart\u001b[0m\u001b[1;33m\u001b[0m\u001b[1;33m\u001b[0m\u001b[0m\n\u001b[0;32m      8\u001b[0m \u001b[0mbar1\u001b[0m\u001b[1;33m,\u001b[0m \u001b[0max3\u001b[0m \u001b[1;33m=\u001b[0m \u001b[0mplt\u001b[0m\u001b[1;33m.\u001b[0m\u001b[0msubplots\u001b[0m\u001b[1;33m(\u001b[0m\u001b[1;33m)\u001b[0m\u001b[1;33m\u001b[0m\u001b[0m\n\u001b[1;32m----> 9\u001b[1;33m \u001b[0mrects\u001b[0m \u001b[1;33m=\u001b[0m \u001b[0max3\u001b[0m\u001b[1;33m.\u001b[0m\u001b[0mbar\u001b[0m\u001b[1;33m(\u001b[0m\u001b[1;36m0.35\u001b[0m\u001b[1;33m,\u001b[0m \u001b[0mproposed_usage\u001b[0m\u001b[1;33m,\u001b[0m \u001b[0mwidth\u001b[0m\u001b[1;33m,\u001b[0m \u001b[0mcolor\u001b[0m\u001b[1;33m=\u001b[0m\u001b[1;34m'r'\u001b[0m\u001b[1;33m)\u001b[0m\u001b[1;33m\u001b[0m\u001b[0m\n\u001b[0m",
      "\u001b[1;32mC:\\Users\\SSpielman\\AppData\\Local\\Continuum\\Anaconda2\\lib\\site-packages\\matplotlib\\__init__.pyc\u001b[0m in \u001b[0;36minner\u001b[1;34m(ax, *args, **kwargs)\u001b[0m\n\u001b[0;32m   1809\u001b[0m                     warnings.warn(msg % (label_namer, func.__name__),\n\u001b[0;32m   1810\u001b[0m                                   RuntimeWarning, stacklevel=2)\n\u001b[1;32m-> 1811\u001b[1;33m             \u001b[1;32mreturn\u001b[0m \u001b[0mfunc\u001b[0m\u001b[1;33m(\u001b[0m\u001b[0max\u001b[0m\u001b[1;33m,\u001b[0m \u001b[1;33m*\u001b[0m\u001b[0margs\u001b[0m\u001b[1;33m,\u001b[0m \u001b[1;33m**\u001b[0m\u001b[0mkwargs\u001b[0m\u001b[1;33m)\u001b[0m\u001b[1;33m\u001b[0m\u001b[0m\n\u001b[0m\u001b[0;32m   1812\u001b[0m         \u001b[0mpre_doc\u001b[0m \u001b[1;33m=\u001b[0m \u001b[0minner\u001b[0m\u001b[1;33m.\u001b[0m\u001b[0m__doc__\u001b[0m\u001b[1;33m\u001b[0m\u001b[0m\n\u001b[0;32m   1813\u001b[0m         \u001b[1;32mif\u001b[0m \u001b[0mpre_doc\u001b[0m \u001b[1;32mis\u001b[0m \u001b[0mNone\u001b[0m\u001b[1;33m:\u001b[0m\u001b[1;33m\u001b[0m\u001b[0m\n",
      "\u001b[1;32mC:\\Users\\SSpielman\\AppData\\Local\\Continuum\\Anaconda2\\lib\\site-packages\\matplotlib\\axes\\_axes.pyc\u001b[0m in \u001b[0;36mbar\u001b[1;34m(self, left, height, width, bottom, **kwargs)\u001b[0m\n\u001b[0;32m   2078\u001b[0m         \u001b[1;32mif\u001b[0m \u001b[0mlen\u001b[0m\u001b[1;33m(\u001b[0m\u001b[0mheight\u001b[0m\u001b[1;33m)\u001b[0m \u001b[1;33m!=\u001b[0m \u001b[0mnbars\u001b[0m\u001b[1;33m:\u001b[0m\u001b[1;33m\u001b[0m\u001b[0m\n\u001b[0;32m   2079\u001b[0m             raise ValueError(\"incompatible sizes: argument 'height' \"\n\u001b[1;32m-> 2080\u001b[1;33m                               \"must be length %d or scalar\" % nbars)\n\u001b[0m\u001b[0;32m   2081\u001b[0m         \u001b[1;32mif\u001b[0m \u001b[0mlen\u001b[0m\u001b[1;33m(\u001b[0m\u001b[0mwidth\u001b[0m\u001b[1;33m)\u001b[0m \u001b[1;33m!=\u001b[0m \u001b[0mnbars\u001b[0m\u001b[1;33m:\u001b[0m\u001b[1;33m\u001b[0m\u001b[0m\n\u001b[0;32m   2082\u001b[0m             raise ValueError(\"incompatible sizes: argument 'width' \"\n",
      "\u001b[1;31mValueError\u001b[0m: incompatible sizes: argument 'height' must be length 1 or scalar"
     ]
    },
    {
     "data": {
      "image/png": "[encoded data removed]",
      "text/plain": [
       "<matplotlib.figure.Figure at 0xdf5b6d8>"
      ]
     },
     "metadata": {},
     "output_type": "display_data"
    }
   ],
   "source": [
    "#plot inputs\n",
    "N = 5 #number of inputs for the plot\n",
    "proposed_usage = df['Proposed Energy Usage [GJ]']\n",
    "baseline_usage = df['Baseline Energy Usage [GJ]']\n",
    "width = 0.35\n",
    "ind = np.arrange(N)\n",
    "\n",
    "#create bar chart\n",
    "bar1, ax3 = plt.subplots()\n",
    "rects = ax3.bar(ind, proposed_usage, width, color='r')"
   ]
  },
  {
   "cell_type": "code",
   "execution_count": null,
   "metadata": {
    "collapsed": true
   },
   "outputs": [],
   "source": []
  },
  {
   "cell_type": "code",
   "execution_count": null,
   "metadata": {
    "collapsed": true
   },
   "outputs": [],
   "source": []
  }
 ],
 "metadata": {
  "anaconda-cloud": {},
  "kernelspec": {
   "display_name": "Python [Root]",
   "language": "python",
   "name": "Python [Root]"
  },
  "language_info": {
   "codemirror_mode": {
    "name": "ipython",
    "version": 2
   },
   "file_extension": ".py",
   "mimetype": "text/x-python",
   "name": "python",
   "nbconvert_exporter": "python",
   "pygments_lexer": "ipython2",
   "version": "2.7.12"
  }
 },
 "nbformat": 4,
 "nbformat_minor": 0
}
