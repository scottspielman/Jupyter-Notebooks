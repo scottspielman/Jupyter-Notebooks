{
 "cells": [
  {
   "cell_type": "code",
   "execution_count": 22,
   "metadata": {
    "collapsed": false
   },
   "outputs": [
    {
     "name": "stdout",
     "output_type": "stream",
     "text": [
      "Populating the interactive namespace from numpy and matplotlib\n"
     ]
    }
   ],
   "source": [
    "import os\n",
    "import pandas as pd\n",
    "import numpy as np\n",
    "import matplotlib.pyplot as plt\n",
    "import sqlite3\n",
    "\n",
    "import matplotlib\n",
    "matplotlib.style.use('ggplot')\n",
    "\n",
    "\n",
    "%pylab inline"
   ]
  },
  {
   "cell_type": "code",
   "execution_count": 68,
   "metadata": {
    "collapsed": true
   },
   "outputs": [],
   "source": [
    "#filepath for proposed sql output\n",
    "proposed_file = 'eplusout.sql'\n",
    "#open file with con for connect for proposed file\n",
    "con_proposed = sqlite3.connect(os.path.join(proposed_file))"
   ]
  },
  {
   "cell_type": "code",
   "execution_count": 81,
   "metadata": {
    "collapsed": false
   },
   "outputs": [],
   "source": [
    "'''\n",
    "Now let's link the following querie. For \"Plant Supply Side Inlet Mass Flow Rate\"  and \"CHILLED WATER\" we will use variables\n",
    "so that is is easier for us to link in HW as well. Note that this querie can be used to grab any 8760 data you want. So, we \n",
    "can reuse this to grab fan power and check w/cfm, or to check an individual space. \n",
    "\n",
    "SELECT ReportVariableWithTime.KeyValue, ReportVariableWithTime.TimeIndex, \n",
    "\tReportVariableWithTime.Value  \n",
    "\tFROM ReportVariableWithTime\n",
    "INNER JOIN ReportVariableDataDictionary \n",
    "\tON ReportVariableWithTime.ReportDataDictionaryIndex = ReportVariableDataDictionary.ReportVariableDataDictionaryIndex\n",
    "WHERE ReportVariableDataDictionary.VariableName = \"Plant Supply Side Inlet Mass Flow Rate\" \n",
    "\tAND ReportVariableWithTime.KeyValue = \"CHILLED WATER\"\n",
    "'''\n",
    "\n",
    "#query \n",
    "varName = \"Plant Supply Side Cooling Demand Rate\"  \n",
    "keyVal = \"CHILLED WATER\"\n",
    "\n",
    "#text for sql query\n",
    "sql_query = 'SELECT ReportVariableWithTime.KeyValue, ReportVariableWithTime.TimeIndex, Time.DayType '\n",
    "sql_query += ' ReportVariableWithTime.Value'\n",
    "sql_query += ' FROM ReportVariableWithTime'\n",
    "\n",
    "sql_query += ' INNER JOIN Time'\n",
    "sql_query += ' ON Time.TimeIndex = ReportVariableWithTime.TimeIndex'\n",
    "\n",
    "sql_query += ' INNER JOIN ReportVariableDataDictionary'\n",
    "sql_query += ' ON ReportVariableWithTime.ReportDataDictionaryIndex = ReportVariableDataDictionary.ReportVariableDataDictionaryIndex'\n",
    "sql_query += ' WHERE ReportVariableDataDictionary.VariableName = \\'' + varName + '\\''\n",
    "sql_query += ' AND ReportVariableWithTime.KeyValue =\\'' + keyVal + '\\''\n",
    "sql_query += ';'"
   ]
  },
  {
   "cell_type": "code",
   "execution_count": 82,
   "metadata": {
    "collapsed": false
   },
   "outputs": [
    {
     "ename": "DatabaseError",
     "evalue": "Execution failed on sql 'SELECT ReportVariableWithTime.KeyValue, ReportVariableWithTime.TimeIndex, Time.DayType  ReportVariableWithTime.Value FROM ReportVariableWithTime INNER JOIN Time ON Time.TimeIndex = ReportVariableWithTime.TimeIndex INNER JOIN ReportVariableDataDictionary ON ReportVariableWithTime.ReportDataDictionaryIndex = ReportVariableDataDictionary.ReportVariableDataDictionaryIndex WHERE ReportVariableDataDictionary.VariableName = 'Plant Supply Side Cooling Demand Rate' AND ReportVariableWithTime.KeyValue ='CHILLED WATER';': near \".\": syntax error",
     "output_type": "error",
     "traceback": [
      "\u001b[1;31m---------------------------------------------------------------------------\u001b[0m",
      "\u001b[1;31mDatabaseError\u001b[0m                             Traceback (most recent call last)",
      "\u001b[1;32m<ipython-input-82-4e715017a07a>\u001b[0m in \u001b[0;36m<module>\u001b[1;34m()\u001b[0m\n\u001b[0;32m      1\u001b[0m \u001b[1;31m#create baseline end use database\u001b[0m\u001b[1;33m\u001b[0m\u001b[1;33m\u001b[0m\u001b[0m\n\u001b[1;32m----> 2\u001b[1;33m \u001b[0mloadCW\u001b[0m \u001b[1;33m=\u001b[0m \u001b[0mpd\u001b[0m\u001b[1;33m.\u001b[0m\u001b[0mread_sql_query\u001b[0m\u001b[1;33m(\u001b[0m\u001b[0msql_query\u001b[0m\u001b[1;33m,\u001b[0m \u001b[0mcon_proposed\u001b[0m\u001b[1;33m)\u001b[0m\u001b[1;33m\u001b[0m\u001b[0m\n\u001b[0m",
      "\u001b[1;32mC:\\Users\\SSpielman\\AppData\\Local\\Continuum\\Anaconda2\\lib\\site-packages\\pandas\\io\\sql.pyc\u001b[0m in \u001b[0;36mread_sql_query\u001b[1;34m(sql, con, index_col, coerce_float, params, parse_dates, chunksize)\u001b[0m\n\u001b[0;32m    429\u001b[0m     return pandas_sql.read_query(\n\u001b[0;32m    430\u001b[0m         \u001b[0msql\u001b[0m\u001b[1;33m,\u001b[0m \u001b[0mindex_col\u001b[0m\u001b[1;33m=\u001b[0m\u001b[0mindex_col\u001b[0m\u001b[1;33m,\u001b[0m \u001b[0mparams\u001b[0m\u001b[1;33m=\u001b[0m\u001b[0mparams\u001b[0m\u001b[1;33m,\u001b[0m \u001b[0mcoerce_float\u001b[0m\u001b[1;33m=\u001b[0m\u001b[0mcoerce_float\u001b[0m\u001b[1;33m,\u001b[0m\u001b[1;33m\u001b[0m\u001b[0m\n\u001b[1;32m--> 431\u001b[1;33m         parse_dates=parse_dates, chunksize=chunksize)\n\u001b[0m\u001b[0;32m    432\u001b[0m \u001b[1;33m\u001b[0m\u001b[0m\n\u001b[0;32m    433\u001b[0m \u001b[1;33m\u001b[0m\u001b[0m\n",
      "\u001b[1;32mC:\\Users\\SSpielman\\AppData\\Local\\Continuum\\Anaconda2\\lib\\site-packages\\pandas\\io\\sql.pyc\u001b[0m in \u001b[0;36mread_query\u001b[1;34m(self, sql, index_col, coerce_float, params, parse_dates, chunksize)\u001b[0m\n\u001b[0;32m   1597\u001b[0m \u001b[1;33m\u001b[0m\u001b[0m\n\u001b[0;32m   1598\u001b[0m         \u001b[0margs\u001b[0m \u001b[1;33m=\u001b[0m \u001b[0m_convert_params\u001b[0m\u001b[1;33m(\u001b[0m\u001b[0msql\u001b[0m\u001b[1;33m,\u001b[0m \u001b[0mparams\u001b[0m\u001b[1;33m)\u001b[0m\u001b[1;33m\u001b[0m\u001b[0m\n\u001b[1;32m-> 1599\u001b[1;33m         \u001b[0mcursor\u001b[0m \u001b[1;33m=\u001b[0m \u001b[0mself\u001b[0m\u001b[1;33m.\u001b[0m\u001b[0mexecute\u001b[0m\u001b[1;33m(\u001b[0m\u001b[1;33m*\u001b[0m\u001b[0margs\u001b[0m\u001b[1;33m)\u001b[0m\u001b[1;33m\u001b[0m\u001b[0m\n\u001b[0m\u001b[0;32m   1600\u001b[0m         \u001b[0mcolumns\u001b[0m \u001b[1;33m=\u001b[0m \u001b[1;33m[\u001b[0m\u001b[0mcol_desc\u001b[0m\u001b[1;33m[\u001b[0m\u001b[1;36m0\u001b[0m\u001b[1;33m]\u001b[0m \u001b[1;32mfor\u001b[0m \u001b[0mcol_desc\u001b[0m \u001b[1;32min\u001b[0m \u001b[0mcursor\u001b[0m\u001b[1;33m.\u001b[0m\u001b[0mdescription\u001b[0m\u001b[1;33m]\u001b[0m\u001b[1;33m\u001b[0m\u001b[0m\n\u001b[0;32m   1601\u001b[0m \u001b[1;33m\u001b[0m\u001b[0m\n",
      "\u001b[1;32mC:\\Users\\SSpielman\\AppData\\Local\\Continuum\\Anaconda2\\lib\\site-packages\\pandas\\io\\sql.pyc\u001b[0m in \u001b[0;36mexecute\u001b[1;34m(self, *args, **kwargs)\u001b[0m\n\u001b[0;32m   1574\u001b[0m             ex = DatabaseError(\n\u001b[0;32m   1575\u001b[0m                 \"Execution failed on sql '%s': %s\" % (args[0], exc))\n\u001b[1;32m-> 1576\u001b[1;33m             \u001b[0mraise_with_traceback\u001b[0m\u001b[1;33m(\u001b[0m\u001b[0mex\u001b[0m\u001b[1;33m)\u001b[0m\u001b[1;33m\u001b[0m\u001b[0m\n\u001b[0m\u001b[0;32m   1577\u001b[0m \u001b[1;33m\u001b[0m\u001b[0m\n\u001b[0;32m   1578\u001b[0m     \u001b[1;33m@\u001b[0m\u001b[0mstaticmethod\u001b[0m\u001b[1;33m\u001b[0m\u001b[0m\n",
      "\u001b[1;32mC:\\Users\\SSpielman\\AppData\\Local\\Continuum\\Anaconda2\\lib\\site-packages\\pandas\\io\\sql.pyc\u001b[0m in \u001b[0;36mexecute\u001b[1;34m(self, *args, **kwargs)\u001b[0m\n\u001b[0;32m   1562\u001b[0m                 \u001b[0mcur\u001b[0m\u001b[1;33m.\u001b[0m\u001b[0mexecute\u001b[0m\u001b[1;33m(\u001b[0m\u001b[1;33m*\u001b[0m\u001b[0margs\u001b[0m\u001b[1;33m,\u001b[0m \u001b[1;33m**\u001b[0m\u001b[0mkwargs\u001b[0m\u001b[1;33m)\u001b[0m\u001b[1;33m\u001b[0m\u001b[0m\n\u001b[0;32m   1563\u001b[0m             \u001b[1;32melse\u001b[0m\u001b[1;33m:\u001b[0m\u001b[1;33m\u001b[0m\u001b[0m\n\u001b[1;32m-> 1564\u001b[1;33m                 \u001b[0mcur\u001b[0m\u001b[1;33m.\u001b[0m\u001b[0mexecute\u001b[0m\u001b[1;33m(\u001b[0m\u001b[1;33m*\u001b[0m\u001b[0margs\u001b[0m\u001b[1;33m)\u001b[0m\u001b[1;33m\u001b[0m\u001b[0m\n\u001b[0m\u001b[0;32m   1565\u001b[0m             \u001b[1;32mreturn\u001b[0m \u001b[0mcur\u001b[0m\u001b[1;33m\u001b[0m\u001b[0m\n\u001b[0;32m   1566\u001b[0m         \u001b[1;32mexcept\u001b[0m \u001b[0mException\u001b[0m \u001b[1;32mas\u001b[0m \u001b[0mexc\u001b[0m\u001b[1;33m:\u001b[0m\u001b[1;33m\u001b[0m\u001b[0m\n",
      "\u001b[1;31mDatabaseError\u001b[0m: Execution failed on sql 'SELECT ReportVariableWithTime.KeyValue, ReportVariableWithTime.TimeIndex, Time.DayType  ReportVariableWithTime.Value FROM ReportVariableWithTime INNER JOIN Time ON Time.TimeIndex = ReportVariableWithTime.TimeIndex INNER JOIN ReportVariableDataDictionary ON ReportVariableWithTime.ReportDataDictionaryIndex = ReportVariableDataDictionary.ReportVariableDataDictionaryIndex WHERE ReportVariableDataDictionary.VariableName = 'Plant Supply Side Cooling Demand Rate' AND ReportVariableWithTime.KeyValue ='CHILLED WATER';': near \".\": syntax error"
     ]
    }
   ],
   "source": [
    "#create baseline end use database\n",
    "loadCW = pd.read_sql_query(sql_query, con_proposed)"
   ]
  },
  {
   "cell_type": "code",
   "execution_count": 85,
   "metadata": {
    "collapsed": true
   },
   "outputs": [],
   "source": [
    "varName = \"Plant Supply Side Heating Demand Rate\"  \n",
    "keyVal = \"HEATING HOT WATER\"\n",
    "\n",
    "#text for sql querie\n",
    "sql_query = 'SELECT ReportVariableWithTime.KeyValue, ReportVariableWithTime.TimeIndex, Time.DayType'\n",
    "sql_query += ' ReportVariableWithTime.Value'\n",
    "sql_query += ' FROM ReportVariableWithTime'\n",
    "\n",
    "sql_query += ' INNER JOIN Time'\n",
    "sql_query += ' ON Time.TimeIndex = ReportVariableWithTime.TimeIndex'\n",
    "\n",
    "sql_query += ' INNER JOIN ReportVariableDataDictionary'\n",
    "sql_query += ' ON ReportVariableWithTime.ReportDataDictionaryIndex = ReportVariableDataDictionary.ReportVariableDataDictionaryIndex'\n",
    "sql_query += ' WHERE ReportVariableDataDictionary.VariableName = \\'' + varName + '\\''\n",
    "sql_query += ' AND ReportVariableWithTime.KeyValue =\\'' + keyVal + '\\''\n",
    "sql_query += ';'"
   ]
  },
  {
   "cell_type": "code",
   "execution_count": 86,
   "metadata": {
    "collapsed": false
   },
   "outputs": [
    {
     "ename": "DatabaseError",
     "evalue": "Execution failed on sql 'SELECT ReportVariableWithTime.KeyValue, ReportVariableWithTime.TimeIndex, Time.DayType ReportVariableWithTime.Value FROM ReportVariableWithTime INNER JOIN Time ON Time.TimeIndex = ReportVariableWithTime.TimeIndex INNER JOIN ReportVariableDataDictionary ON ReportVariableWithTime.ReportDataDictionaryIndex = ReportVariableDataDictionary.ReportVariableDataDictionaryIndex WHERE ReportVariableDataDictionary.VariableName = 'Plant Supply Side Heating Demand Rate' AND ReportVariableWithTime.KeyValue ='HEATING HOT WATER';': near \".\": syntax error",
     "output_type": "error",
     "traceback": [
      "\u001b[1;31m---------------------------------------------------------------------------\u001b[0m",
      "\u001b[1;31mDatabaseError\u001b[0m                             Traceback (most recent call last)",
      "\u001b[1;32m<ipython-input-86-2ba97b58434c>\u001b[0m in \u001b[0;36m<module>\u001b[1;34m()\u001b[0m\n\u001b[0;32m      1\u001b[0m \u001b[1;31m#create baseline end use database\u001b[0m\u001b[1;33m\u001b[0m\u001b[1;33m\u001b[0m\u001b[0m\n\u001b[1;32m----> 2\u001b[1;33m \u001b[0mloadHW\u001b[0m \u001b[1;33m=\u001b[0m \u001b[0mpd\u001b[0m\u001b[1;33m.\u001b[0m\u001b[0mread_sql_query\u001b[0m\u001b[1;33m(\u001b[0m\u001b[0msql_query\u001b[0m\u001b[1;33m,\u001b[0m \u001b[0mcon_proposed\u001b[0m\u001b[1;33m)\u001b[0m\u001b[1;33m\u001b[0m\u001b[0m\n\u001b[0m\u001b[0;32m      3\u001b[0m \u001b[0mloadHW\u001b[0m\u001b[1;33m\u001b[0m\u001b[0m\n",
      "\u001b[1;32mC:\\Users\\SSpielman\\AppData\\Local\\Continuum\\Anaconda2\\lib\\site-packages\\pandas\\io\\sql.pyc\u001b[0m in \u001b[0;36mread_sql_query\u001b[1;34m(sql, con, index_col, coerce_float, params, parse_dates, chunksize)\u001b[0m\n\u001b[0;32m    429\u001b[0m     return pandas_sql.read_query(\n\u001b[0;32m    430\u001b[0m         \u001b[0msql\u001b[0m\u001b[1;33m,\u001b[0m \u001b[0mindex_col\u001b[0m\u001b[1;33m=\u001b[0m\u001b[0mindex_col\u001b[0m\u001b[1;33m,\u001b[0m \u001b[0mparams\u001b[0m\u001b[1;33m=\u001b[0m\u001b[0mparams\u001b[0m\u001b[1;33m,\u001b[0m \u001b[0mcoerce_float\u001b[0m\u001b[1;33m=\u001b[0m\u001b[0mcoerce_float\u001b[0m\u001b[1;33m,\u001b[0m\u001b[1;33m\u001b[0m\u001b[0m\n\u001b[1;32m--> 431\u001b[1;33m         parse_dates=parse_dates, chunksize=chunksize)\n\u001b[0m\u001b[0;32m    432\u001b[0m \u001b[1;33m\u001b[0m\u001b[0m\n\u001b[0;32m    433\u001b[0m \u001b[1;33m\u001b[0m\u001b[0m\n",
      "\u001b[1;32mC:\\Users\\SSpielman\\AppData\\Local\\Continuum\\Anaconda2\\lib\\site-packages\\pandas\\io\\sql.pyc\u001b[0m in \u001b[0;36mread_query\u001b[1;34m(self, sql, index_col, coerce_float, params, parse_dates, chunksize)\u001b[0m\n\u001b[0;32m   1597\u001b[0m \u001b[1;33m\u001b[0m\u001b[0m\n\u001b[0;32m   1598\u001b[0m         \u001b[0margs\u001b[0m \u001b[1;33m=\u001b[0m \u001b[0m_convert_params\u001b[0m\u001b[1;33m(\u001b[0m\u001b[0msql\u001b[0m\u001b[1;33m,\u001b[0m \u001b[0mparams\u001b[0m\u001b[1;33m)\u001b[0m\u001b[1;33m\u001b[0m\u001b[0m\n\u001b[1;32m-> 1599\u001b[1;33m         \u001b[0mcursor\u001b[0m \u001b[1;33m=\u001b[0m \u001b[0mself\u001b[0m\u001b[1;33m.\u001b[0m\u001b[0mexecute\u001b[0m\u001b[1;33m(\u001b[0m\u001b[1;33m*\u001b[0m\u001b[0margs\u001b[0m\u001b[1;33m)\u001b[0m\u001b[1;33m\u001b[0m\u001b[0m\n\u001b[0m\u001b[0;32m   1600\u001b[0m         \u001b[0mcolumns\u001b[0m \u001b[1;33m=\u001b[0m \u001b[1;33m[\u001b[0m\u001b[0mcol_desc\u001b[0m\u001b[1;33m[\u001b[0m\u001b[1;36m0\u001b[0m\u001b[1;33m]\u001b[0m \u001b[1;32mfor\u001b[0m \u001b[0mcol_desc\u001b[0m \u001b[1;32min\u001b[0m \u001b[0mcursor\u001b[0m\u001b[1;33m.\u001b[0m\u001b[0mdescription\u001b[0m\u001b[1;33m]\u001b[0m\u001b[1;33m\u001b[0m\u001b[0m\n\u001b[0;32m   1601\u001b[0m \u001b[1;33m\u001b[0m\u001b[0m\n",
      "\u001b[1;32mC:\\Users\\SSpielman\\AppData\\Local\\Continuum\\Anaconda2\\lib\\site-packages\\pandas\\io\\sql.pyc\u001b[0m in \u001b[0;36mexecute\u001b[1;34m(self, *args, **kwargs)\u001b[0m\n\u001b[0;32m   1574\u001b[0m             ex = DatabaseError(\n\u001b[0;32m   1575\u001b[0m                 \"Execution failed on sql '%s': %s\" % (args[0], exc))\n\u001b[1;32m-> 1576\u001b[1;33m             \u001b[0mraise_with_traceback\u001b[0m\u001b[1;33m(\u001b[0m\u001b[0mex\u001b[0m\u001b[1;33m)\u001b[0m\u001b[1;33m\u001b[0m\u001b[0m\n\u001b[0m\u001b[0;32m   1577\u001b[0m \u001b[1;33m\u001b[0m\u001b[0m\n\u001b[0;32m   1578\u001b[0m     \u001b[1;33m@\u001b[0m\u001b[0mstaticmethod\u001b[0m\u001b[1;33m\u001b[0m\u001b[0m\n",
      "\u001b[1;32mC:\\Users\\SSpielman\\AppData\\Local\\Continuum\\Anaconda2\\lib\\site-packages\\pandas\\io\\sql.pyc\u001b[0m in \u001b[0;36mexecute\u001b[1;34m(self, *args, **kwargs)\u001b[0m\n\u001b[0;32m   1562\u001b[0m                 \u001b[0mcur\u001b[0m\u001b[1;33m.\u001b[0m\u001b[0mexecute\u001b[0m\u001b[1;33m(\u001b[0m\u001b[1;33m*\u001b[0m\u001b[0margs\u001b[0m\u001b[1;33m,\u001b[0m \u001b[1;33m**\u001b[0m\u001b[0mkwargs\u001b[0m\u001b[1;33m)\u001b[0m\u001b[1;33m\u001b[0m\u001b[0m\n\u001b[0;32m   1563\u001b[0m             \u001b[1;32melse\u001b[0m\u001b[1;33m:\u001b[0m\u001b[1;33m\u001b[0m\u001b[0m\n\u001b[1;32m-> 1564\u001b[1;33m                 \u001b[0mcur\u001b[0m\u001b[1;33m.\u001b[0m\u001b[0mexecute\u001b[0m\u001b[1;33m(\u001b[0m\u001b[1;33m*\u001b[0m\u001b[0margs\u001b[0m\u001b[1;33m)\u001b[0m\u001b[1;33m\u001b[0m\u001b[0m\n\u001b[0m\u001b[0;32m   1565\u001b[0m             \u001b[1;32mreturn\u001b[0m \u001b[0mcur\u001b[0m\u001b[1;33m\u001b[0m\u001b[0m\n\u001b[0;32m   1566\u001b[0m         \u001b[1;32mexcept\u001b[0m \u001b[0mException\u001b[0m \u001b[1;32mas\u001b[0m \u001b[0mexc\u001b[0m\u001b[1;33m:\u001b[0m\u001b[1;33m\u001b[0m\u001b[0m\n",
      "\u001b[1;31mDatabaseError\u001b[0m: Execution failed on sql 'SELECT ReportVariableWithTime.KeyValue, ReportVariableWithTime.TimeIndex, Time.DayType ReportVariableWithTime.Value FROM ReportVariableWithTime INNER JOIN Time ON Time.TimeIndex = ReportVariableWithTime.TimeIndex INNER JOIN ReportVariableDataDictionary ON ReportVariableWithTime.ReportDataDictionaryIndex = ReportVariableDataDictionary.ReportVariableDataDictionaryIndex WHERE ReportVariableDataDictionary.VariableName = 'Plant Supply Side Heating Demand Rate' AND ReportVariableWithTime.KeyValue ='HEATING HOT WATER';': near \".\": syntax error"
     ]
    }
   ],
   "source": [
    "#create baseline end use database\n",
    "loadHW = pd.read_sql_query(sql_query, con_proposed)\n",
    "loadHW"
   ]
  },
  {
   "cell_type": "code",
   "execution_count": 76,
   "metadata": {
    "collapsed": false
   },
   "outputs": [
    {
     "data": {
      "text/plain": [
       "<matplotlib.text.Text at 0xdf70358>"
      ]
     },
     "execution_count": 76,
     "metadata": {},
     "output_type": "execute_result"
    },
    {
     "data": {
      "image/png": "[encoded data removed]",
      "text/plain": [
       "<matplotlib.figure.Figure at 0xdcd6fd0>"
      ]
     },
     "metadata": {},
     "output_type": "display_data"
    }
   ],
   "source": [
    "fig = plt.figure()\n",
    "ax = fig.add_axes([0,0,1,1])\n",
    "ax.plot(loadHW['ReportVariableWithTime.TimeIndex'],loadHW['ReportVariableWithTime.Value'])\n",
    "ax.set_xlabel('time')\n",
    "ax.set_ylabel('load')\n",
    "ax.set_title('title')"
   ]
  },
  {
   "cell_type": "code",
   "execution_count": null,
   "metadata": {
    "collapsed": true
   },
   "outputs": [],
   "source": [
    "'''\n",
    "The SQL file appears to include some warm up time indexes of something, which makes for \n",
    "some weirdness when querying for 8760 data. You will note that the table goes all the \n",
    "way to 9407, and the data does not match what is pulled from the .eso file unitil point 1352.\n",
    "Before 1352 values are very low. \n",
    "\n",
    "These are summer and winter design days. We need to edit the query to remove these. \n",
    "'''"
   ]
  },
  {
   "cell_type": "code",
   "execution_count": null,
   "metadata": {
    "collapsed": true
   },
   "outputs": [],
   "source": []
  }
 ],
 "metadata": {
  "anaconda-cloud": {},
  "kernelspec": {
   "display_name": "Python [Root]",
   "language": "python",
   "name": "Python [Root]"
  },
  "language_info": {
   "codemirror_mode": {
    "name": "ipython",
    "version": 2
   },
   "file_extension": ".py",
   "mimetype": "text/x-python",
   "name": "python",
   "nbconvert_exporter": "python",
   "pygments_lexer": "ipython2",
   "version": "2.7.12"
  }
 },
 "nbformat": 4,
 "nbformat_minor": 0
}
