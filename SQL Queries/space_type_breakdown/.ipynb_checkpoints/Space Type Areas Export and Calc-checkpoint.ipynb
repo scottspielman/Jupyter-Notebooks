{
 "cells": [
  {
   "cell_type": "code",
   "execution_count": 141,
   "metadata": {
    "collapsed": false,
    "scrolled": false
   },
   "outputs": [
    {
     "name": "stdout",
     "output_type": "stream",
     "text": [
      "Populating the interactive namespace from numpy and matplotlib\n"
     ]
    }
   ],
   "source": [
    "#initialize packages\n",
    "\n",
    "import os #operating system inferfacing. Read and write to files. \n",
    "import pandas as pd #database manipulation\n",
    "import numpy as np #arrays and mathmatical computation \n",
    "import matplotlib.pyplot as plt #plotting\n",
    "import sqlite3 #sql\n",
    "\n",
    "import matplotlib\n",
    "matplotlib.style.use('ggplot')\n",
    "\n",
    "\n",
    "%pylab inline"
   ]
  },
  {
   "cell_type": "markdown",
   "metadata": {
    "collapsed": false
   },
   "source": [
    "### Import SQL Thermal Zones and Areas from in.sql"
   ]
  },
  {
   "cell_type": "code",
   "execution_count": 143,
   "metadata": {
    "collapsed": true
   },
   "outputs": [],
   "source": [
    "filename = 'in.sql'"
   ]
  },
  {
   "cell_type": "code",
   "execution_count": 144,
   "metadata": {
    "collapsed": false
   },
   "outputs": [],
   "source": [
    "con = sqlite3.connect(os.path.join(filename))\n",
    "sql_querie = \"SELECT ZoneInfoZoneLists.ZoneListIndex, ZoneLists.Name, Zones.ZoneName, Zones.FloorArea From ZoneInfoZoneLists INNER JOIN ZoneLists ON ZoneInfoZoneLists.ZoneListIndex = ZoneLists.ZoneListIndex INNER JOIN Zones On ZoneInfoZoneLists.ZoneIndex = Zones.ZoneIndex ORDER BY ZoneInfoZoneLists.ZoneListIndex ASC;\""
   ]
  },
  {
   "cell_type": "code",
   "execution_count": 145,
   "metadata": {
    "collapsed": false
   },
   "outputs": [],
   "source": [
    "df = pd.read_sql_query(sql_querie, con)"
   ]
  },
  {
   "cell_type": "code",
   "execution_count": 146,
   "metadata": {
    "collapsed": false
   },
   "outputs": [],
   "source": [
    "total_area = df.sum()['FloorArea']"
   ]
  },
  {
   "cell_type": "code",
   "execution_count": 147,
   "metadata": {
    "collapsed": false,
    "scrolled": true
   },
   "outputs": [
    {
     "data": {
      "text/plain": [
       "Name\n",
       "AUD       172.809984\n",
       "BREAK    2697.789873\n",
       "CLEAN     361.114116\n",
       "CONF      378.775371\n",
       "CORR     2143.434029\n",
       "DIN       504.883698\n",
       "ELEC      863.299847\n",
       "EXAM     3770.628177\n",
       "GI        432.618490\n",
       "IMAG      366.627738\n",
       "KIT       549.291457\n",
       "LAUND     316.369690\n",
       "LOB      4234.545084\n",
       "MECH      611.619422\n",
       "MED       150.791956\n",
       "PHARM     120.878880\n",
       "PROC      808.381932\n",
       "RAY       352.026502\n",
       "RET       523.998050\n",
       "SOIL      541.671175\n",
       "STAIR     162.755623\n",
       "STER      119.197181\n",
       "STOR      766.788693\n",
       "TEAM      689.108299\n",
       "WR        464.824877\n",
       "Name: FloorArea, dtype: float64"
      ]
     },
     "execution_count": 147,
     "metadata": {},
     "output_type": "execute_result"
    }
   ],
   "source": [
    "zone_area_sums = df.groupby('Name').sum()['FloorArea']\n",
    "zone_area_sums"
   ]
  },
  {
   "cell_type": "code",
   "execution_count": null,
   "metadata": {
    "collapsed": true
   },
   "outputs": [],
   "source": []
  },
  {
   "cell_type": "code",
   "execution_count": 154,
   "metadata": {
    "collapsed": false
   },
   "outputs": [],
   "source": [
    "#create a blank dictionary\n",
    "d = {} \n",
    "\n",
    "#values to initialize loop\n",
    "num_types = zone_area_sums.count()\n",
    "i = 0\n",
    "\n",
    "#loop through values and add to dictionary\n",
    "for i in range(0, num_types):\n",
    "    percent = round(((zone_area_sums[i] / total_area) * 100),1)\n",
    "    d[zone_area_sums.index[i]] = percent\n",
    "    i = i + 1"
   ]
  },
  {
   "cell_type": "code",
   "execution_count": 155,
   "metadata": {
    "collapsed": false
   },
   "outputs": [
    {
     "data": {
      "text/html": [
       "<div>\n",
       "<table border=\"1\" class=\"dataframe\">\n",
       "  <thead>\n",
       "    <tr style=\"text-align: right;\">\n",
       "      <th></th>\n",
       "      <th>0</th>\n",
       "    </tr>\n",
       "  </thead>\n",
       "  <tbody>\n",
       "    <tr>\n",
       "      <th>AUD</th>\n",
       "      <td>0.8</td>\n",
       "    </tr>\n",
       "    <tr>\n",
       "      <th>BREAK</th>\n",
       "      <td>12.2</td>\n",
       "    </tr>\n",
       "    <tr>\n",
       "      <th>CLEAN</th>\n",
       "      <td>1.6</td>\n",
       "    </tr>\n",
       "    <tr>\n",
       "      <th>CONF</th>\n",
       "      <td>1.7</td>\n",
       "    </tr>\n",
       "    <tr>\n",
       "      <th>CORR</th>\n",
       "      <td>9.7</td>\n",
       "    </tr>\n",
       "    <tr>\n",
       "      <th>DIN</th>\n",
       "      <td>2.3</td>\n",
       "    </tr>\n",
       "    <tr>\n",
       "      <th>ELEC</th>\n",
       "      <td>3.9</td>\n",
       "    </tr>\n",
       "    <tr>\n",
       "      <th>EXAM</th>\n",
       "      <td>17.1</td>\n",
       "    </tr>\n",
       "    <tr>\n",
       "      <th>GI</th>\n",
       "      <td>2.0</td>\n",
       "    </tr>\n",
       "    <tr>\n",
       "      <th>IMAG</th>\n",
       "      <td>1.7</td>\n",
       "    </tr>\n",
       "    <tr>\n",
       "      <th>KIT</th>\n",
       "      <td>2.5</td>\n",
       "    </tr>\n",
       "    <tr>\n",
       "      <th>LAUND</th>\n",
       "      <td>1.4</td>\n",
       "    </tr>\n",
       "    <tr>\n",
       "      <th>LOB</th>\n",
       "      <td>19.2</td>\n",
       "    </tr>\n",
       "    <tr>\n",
       "      <th>MECH</th>\n",
       "      <td>2.8</td>\n",
       "    </tr>\n",
       "    <tr>\n",
       "      <th>MED</th>\n",
       "      <td>0.7</td>\n",
       "    </tr>\n",
       "    <tr>\n",
       "      <th>PHARM</th>\n",
       "      <td>0.5</td>\n",
       "    </tr>\n",
       "    <tr>\n",
       "      <th>PROC</th>\n",
       "      <td>3.7</td>\n",
       "    </tr>\n",
       "    <tr>\n",
       "      <th>RAY</th>\n",
       "      <td>1.6</td>\n",
       "    </tr>\n",
       "    <tr>\n",
       "      <th>RET</th>\n",
       "      <td>2.4</td>\n",
       "    </tr>\n",
       "    <tr>\n",
       "      <th>SOIL</th>\n",
       "      <td>2.5</td>\n",
       "    </tr>\n",
       "    <tr>\n",
       "      <th>STAIR</th>\n",
       "      <td>0.7</td>\n",
       "    </tr>\n",
       "    <tr>\n",
       "      <th>STER</th>\n",
       "      <td>0.5</td>\n",
       "    </tr>\n",
       "    <tr>\n",
       "      <th>STOR</th>\n",
       "      <td>3.5</td>\n",
       "    </tr>\n",
       "    <tr>\n",
       "      <th>TEAM</th>\n",
       "      <td>3.1</td>\n",
       "    </tr>\n",
       "    <tr>\n",
       "      <th>WR</th>\n",
       "      <td>2.1</td>\n",
       "    </tr>\n",
       "  </tbody>\n",
       "</table>\n",
       "</div>"
      ],
      "text/plain": [
       "          0\n",
       "AUD     0.8\n",
       "BREAK  12.2\n",
       "CLEAN   1.6\n",
       "CONF    1.7\n",
       "CORR    9.7\n",
       "DIN     2.3\n",
       "ELEC    3.9\n",
       "EXAM   17.1\n",
       "GI      2.0\n",
       "IMAG    1.7\n",
       "KIT     2.5\n",
       "LAUND   1.4\n",
       "LOB    19.2\n",
       "MECH    2.8\n",
       "MED     0.7\n",
       "PHARM   0.5\n",
       "PROC    3.7\n",
       "RAY     1.6\n",
       "RET     2.4\n",
       "SOIL    2.5\n",
       "STAIR   0.7\n",
       "STER    0.5\n",
       "STOR    3.5\n",
       "TEAM    3.1\n",
       "WR      2.1"
      ]
     },
     "execution_count": 155,
     "metadata": {},
     "output_type": "execute_result"
    }
   ],
   "source": [
    "df = pd.DataFrame([d]).T #create dataframe from dictionary and transpose it. \n",
    "df"
   ]
  },
  {
   "cell_type": "code",
   "execution_count": 156,
   "metadata": {
    "collapsed": false
   },
   "outputs": [
    {
     "data": {
      "text/plain": [
       "1.6"
      ]
     },
     "execution_count": 156,
     "metadata": {},
     "output_type": "execute_result"
    }
   ],
   "source": [
    "d['RAY']"
   ]
  },
  {
   "cell_type": "code",
   "execution_count": 157,
   "metadata": {
    "collapsed": false
   },
   "outputs": [],
   "source": [
    "df.to_csv('example.csv')"
   ]
  },
  {
   "cell_type": "code",
   "execution_count": null,
   "metadata": {
    "collapsed": true
   },
   "outputs": [],
   "source": []
  }
 ],
 "metadata": {
  "kernelspec": {
   "display_name": "Python [Root]",
   "language": "python",
   "name": "Python [Root]"
  },
  "language_info": {
   "codemirror_mode": {
    "name": "ipython",
    "version": 2
   },
   "file_extension": ".py",
   "mimetype": "text/x-python",
   "name": "python",
   "nbconvert_exporter": "python",
   "pygments_lexer": "ipython2",
   "version": "2.7.12"
  }
 },
 "nbformat": 4,
 "nbformat_minor": 0
}
