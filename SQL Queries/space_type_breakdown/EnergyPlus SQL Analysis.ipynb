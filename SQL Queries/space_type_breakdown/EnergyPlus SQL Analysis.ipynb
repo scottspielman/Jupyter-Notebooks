{
 "cells": [
  {
   "cell_type": "code",
   "execution_count": 12,
   "metadata": {
    "collapsed": false
   },
   "outputs": [
    {
     "name": "stdout",
     "output_type": "stream",
     "text": [
      "Populating the interactive namespace from numpy and matplotlib\n"
     ]
    }
   ],
   "source": [
    "import os\n",
    "import pandas as pd\n",
    "import numpy as np\n",
    "import matplotlib.pyplot as plt\n",
    "import sqlite3\n",
    "\n",
    "import matplotlib\n",
    "matplotlib.style.use('ggplot')\n",
    "\n",
    "\n",
    "%pylab inline"
   ]
  },
  {
   "cell_type": "markdown",
   "metadata": {},
   "source": [
    "User Inputs\n",
    "---"
   ]
  },
  {
   "cell_type": "code",
   "execution_count": 13,
   "metadata": {
    "collapsed": true
   },
   "outputs": [],
   "source": [
    "path = 'C:\\Users\\SSpielman\\Documents\\Jupyter\\SQL Queries'\n",
    "filename = 'in.sql'"
   ]
  },
  {
   "cell_type": "markdown",
   "metadata": {},
   "source": [
    "Database Connection\n",
    "---"
   ]
  },
  {
   "cell_type": "code",
   "execution_count": 14,
   "metadata": {
    "collapsed": false
   },
   "outputs": [],
   "source": [
    "con = sqlite3.connect(os.path.join(path, filename))"
   ]
  },
  {
   "cell_type": "markdown",
   "metadata": {},
   "source": [
    "SQL Tables\n",
    "---"
   ]
  },
  {
   "cell_type": "code",
   "execution_count": 11,
   "metadata": {
    "collapsed": false,
    "scrolled": true
   },
   "outputs": [
    {
     "name": "stdout",
     "output_type": "stream",
     "text": [
      "     ZoneListIndex   Name                       ZoneName   FloorArea\n",
      "0                1    AUD         THERMAL ZONE: LA-AUD-1  172.809984\n",
      "1                2  BREAK       THERMAL ZONE: L2-BREAK-1  202.885629\n",
      "2                2  BREAK       THERMAL ZONE: L2-BREAK-2  186.059628\n",
      "3                2  BREAK       THERMAL ZONE: L3-BREAK-1  186.059628\n",
      "4                2  BREAK       THERMAL ZONE: L3-BREAK-2  208.654421\n",
      "5                2  BREAK       THERMAL ZONE: L4-BREAK-1  186.059628\n",
      "6                2  BREAK       THERMAL ZONE: L4-BREAK-2  208.654421\n",
      "7                2  BREAK       THERMAL ZONE: L5-BREAK-1  186.059628\n",
      "8                2  BREAK       THERMAL ZONE: L5-BREAK-2  208.654421\n",
      "9                2  BREAK       THERMAL ZONE: L6-BREAK-1  186.059628\n",
      "10               2  BREAK     THERMAL ZONE: L6-BREAK-1 1  208.654421\n",
      "11               2  BREAK       THERMAL ZONE: L7-BREAK-1  186.059628\n",
      "12               2  BREAK       THERMAL ZONE: L7-BREAK-2  208.654421\n",
      "13               2  BREAK       THERMAL ZONE: L8-BREAK-1  158.874723\n",
      "14               2  BREAK       THERMAL ZONE: L8-BREAK-2  176.399647\n",
      "15               3  CLEAN       THERMAL ZONE: L4-CLEAN-3  180.557058\n",
      "16               3  CLEAN       THERMAL ZONE: L6-CLEAN-1  180.557058\n",
      "17               4   CONF        THERMAL ZONE: LA-CONF-1  378.775371\n",
      "18               5   CORR        THERMAL ZONE: L1-CORR-1  151.616469\n",
      "19               5   CORR        THERMAL ZONE: L1-CORR-2   39.749117\n",
      "20               5   CORR        THERMAL ZONE: L2-CORR-1   70.632117\n",
      "21               5   CORR        THERMAL ZONE: L3-CORR-1  224.311487\n",
      "22               5   CORR        THERMAL ZONE: L3-CORR-2   59.903106\n",
      "23               5   CORR        THERMAL ZONE: L4-CORR-1  224.311487\n",
      "24               5   CORR        THERMAL ZONE: L4-CORR-2   59.903106\n",
      "25               5   CORR        THERMAL ZONE: L5-CORR-1  224.311487\n",
      "26               5   CORR        THERMAL ZONE: L5-CORR-2   59.903106\n",
      "27               5   CORR        THERMAL ZONE: L6-CORR-1  224.311487\n",
      "28               5   CORR        THERMAL ZONE: L6-CORR-2   59.903106\n",
      "29               5   CORR        THERMAL ZONE: L7-CORR-1  224.311487\n",
      "..             ...    ...                            ...         ...\n",
      "89              18    RAY         THERMAL ZONE: L2-RAY-2  194.208874\n",
      "90              19    RET         THERMAL ZONE: L8-RET-1  252.123687\n",
      "91              19    RET         THERMAL ZONE: LA-RET-1  271.874363\n",
      "92              20   SOIL        THERMAL ZONE: L3-SOIL-1  180.557058\n",
      "93              20   SOIL        THERMAL ZONE: L5-SOIL-1  180.557058\n",
      "94              20   SOIL        THERMAL ZONE: L7-SOIL-1  180.557058\n",
      "95              21  STAIR       THERMAL ZONE: L1-STAIR-2   39.621902\n",
      "96              21  STAIR       THERMAL ZONE: LA-STAIR-1   25.603237\n",
      "97              21  STAIR       THERMAL ZONE: LA-STAIR-2   26.432178\n",
      "98              21  STAIR   THERMAL ZONE: NORTH-STAIR-28   24.855818\n",
      "99              21  STAIR  THERMAL ZONE: SOUTH-STAIR-3PH   46.242488\n",
      "100             22   STER        THERMAL ZONE: L1-STER-1  119.197181\n",
      "101             23   STOR        THERMAL ZONE: L1-STOR-2  401.125372\n",
      "102             23   STOR        THERMAL ZONE: L8-STOR-1  134.822333\n",
      "103             23   STOR        THERMAL ZONE: LA-STOR-1  172.841819\n",
      "104             23   STOR        THERMAL ZONE: LA-STOR-2   57.999169\n",
      "105             24   TEAM        THERMAL ZONE: L3-TEAM-1  137.821660\n",
      "106             24   TEAM        THERMAL ZONE: L4-TEAM-1  137.821660\n",
      "107             24   TEAM        THERMAL ZONE: L5-TEAM-1  137.821660\n",
      "108             24   TEAM        THERMAL ZONE: L6-TEAM-1  137.821660\n",
      "109             24   TEAM        THERMAL ZONE: L7-TEAM-1  137.821660\n",
      "110             25     WR          THERMAL ZONE: L1-WR-1   54.750858\n",
      "111             25     WR          THERMAL ZONE: L2-WR-1   55.989565\n",
      "112             25     WR          THERMAL ZONE: L3-WR-1   45.584425\n",
      "113             25     WR          THERMAL ZONE: L4-WR-1   45.584425\n",
      "114             25     WR          THERMAL ZONE: L5-WR-1   45.584425\n",
      "115             25     WR          THERMAL ZONE: L6-WR-1   45.584425\n",
      "116             25     WR          THERMAL ZONE: L7-WR-1   45.584425\n",
      "117             25     WR          THERMAL ZONE: L8-WR-1   49.052805\n",
      "118             25     WR          THERMAL ZONE: LA-WR-1   77.109523\n",
      "\n",
      "[119 rows x 4 columns]\n"
     ]
    }
   ],
   "source": [
    "df = pd.read_sql_query(\"SELECT ZoneInfoZoneLists.ZoneListIndex, ZoneLists.Name, Zones.ZoneName, Zones.FloorArea From ZoneInfoZoneLists INNER JOIN ZoneLists ON ZoneInfoZoneLists.ZoneListIndex = ZoneLists.ZoneListIndex INNER JOIN Zones On ZoneInfoZoneLists.ZoneIndex = Zones.ZoneIndex ORDER BY ZoneInfoZoneLists.ZoneListIndex ASC;\", con)\n",
    "print df"
   ]
  },
  {
   "cell_type": "code",
   "execution_count": 10,
   "metadata": {
    "collapsed": false
   },
   "outputs": [
    {
     "name": "stdout",
     "output_type": "stream",
     "text": [
      "                        name\n",
      "0                Simulations\n",
      "1         EnvironmentPeriods\n",
      "2                     Errors\n",
      "3                       Time\n",
      "4                      Zones\n",
      "5                  ZoneLists\n",
      "6                 ZoneGroups\n",
      "7          ZoneInfoZoneLists\n",
      "8                  Schedules\n",
      "9                  Materials\n",
      "10             Constructions\n",
      "11        ConstructionLayers\n",
      "12                  Surfaces\n",
      "13      ReportDataDictionary\n",
      "14                ReportData\n",
      "15        ReportExtendedData\n",
      "16             NominalPeople\n",
      "17           NominalLighting\n",
      "18  NominalElectricEquipment\n",
      "19       NominalGasEquipment\n",
      "20     NominalSteamEquipment\n",
      "21  NominalHotWaterEquipment\n",
      "22     NominalOtherEquipment\n",
      "23   NominalBaseboardHeaters\n",
      "24       NominalInfiltration\n",
      "25        NominalVentilation\n",
      "26                 ZoneSizes\n",
      "27               SystemSizes\n",
      "28            ComponentSizes\n",
      "29             RoomAirModels\n",
      "30              DaylightMaps\n",
      "31  DaylightMapHourlyReports\n",
      "32     DaylightMapHourlyData\n",
      "33               StringTypes\n",
      "34                   Strings\n",
      "35               TabularData\n"
     ]
    }
   ],
   "source": [
    "df = pd.read_sql_query(\"SELECT name FROM sqlite_master WHERE type='table';\", con)\n",
    "print df"
   ]
  },
  {
   "cell_type": "markdown",
   "metadata": {},
   "source": [
    "Database Headers\n",
    "---"
   ]
  },
  {
   "cell_type": "code",
   "execution_count": 49,
   "metadata": {
    "collapsed": false
   },
   "outputs": [
    {
     "name": "stdout",
     "output_type": "stream",
     "text": [
      "          Value                               ReportName  ReportForString  \\\n",
      "0       1388.65  AnnualBuildingUtilityPerformanceSummary  Entire Facility   \n",
      "\n",
      "                TableName            RowName    ColumnName Units  RowId  \n",
      "0  Site and Source Energy  Total Site Energy  Total Energy    GJ      0  \n"
     ]
    }
   ],
   "source": [
    "df = pd.read_sql_query('SELECT * FROM TabularDataWithStrings LIMIT 1', con)\n",
    "print df"
   ]
  },
  {
   "cell_type": "markdown",
   "metadata": {},
   "source": [
    "ReportNames\n",
    "---"
   ]
  },
  {
   "cell_type": "code",
   "execution_count": 50,
   "metadata": {
    "collapsed": false
   },
   "outputs": [
    {
     "name": "stdout",
     "output_type": "stream",
     "text": [
      "[u'AnnualBuildingUtilityPerformanceSummary'\n",
      " u'InputVerificationandResultsSummary' u'DemandEndUseComponentsSummary'\n",
      " u'SourceEnergyEndUseComponentsSummary' u'ClimaticDataSummary'\n",
      " u'EnvelopeSummary' u'ShadingSummary' u'LightingSummary'\n",
      " u'EquipmentSummary' u'HVACSizingSummary' u'SystemSummary'\n",
      " u'OutdoorAirSummary' u'ObjectCountSummary' u'EnergyMeters'\n",
      " u'SensibleHeatGainSummary' u'Standard62.1Summary' u'LEEDsummary'\n",
      " u'ComponentSizingSummary' u'SurfaceShadowingSummary'\n",
      " u'ZoneComponentLoadSummary' u'Life-Cycle Cost Report']\n"
     ]
    }
   ],
   "source": [
    "df = pd.read_sql_query('SELECT ReportName FROM TabularDataWithStrings', con)\n",
    "print df['ReportName'].unique()"
   ]
  },
  {
   "cell_type": "markdown",
   "metadata": {},
   "source": [
    "Building\n",
    "==="
   ]
  },
  {
   "cell_type": "code",
   "execution_count": 51,
   "metadata": {
    "collapsed": true
   },
   "outputs": [],
   "source": [
    "report_name = 'AnnualBuildingUtilityPerformanceSummary'\n",
    "#report_for_string = 'Entire Facility'\n",
    "table_name = 'Building Area'\n",
    "column_name = 'Area'\n",
    "row_name = 'Total Building Area'\n",
    "\n",
    "sql_query = 'select Value from TabularDataWithStrings WHERE ReportName=\\'' + report_name + '\\''\n",
    "#sql_query += ' and ReportForString=\\'' + report_for_string + '\\''\n",
    "sql_query += ' and TableName=\\'' + table_name + '\\''\n",
    "sql_query += ' and ColumnName=\\'' + column_name + '\\''\n",
    "sql_query += ' and RowName=\\'' + row_name + '\\''\n",
    "sql_query += ';'\n",
    "\n",
    "df = pd.read_sql_query(sql_query, con)\n",
    "floor_area = float(df.iloc[0]['Value'])*10.7"
   ]
  },
  {
   "cell_type": "code",
   "execution_count": 52,
   "metadata": {
    "collapsed": false
   },
   "outputs": [
    {
     "name": "stdout",
     "output_type": "stream",
     "text": [
      "Floor area: 1988.167 ft2\n"
     ]
    }
   ],
   "source": [
    "print 'Floor area: ' + str(floor_area) + ' ft2'"
   ]
  },
  {
   "cell_type": "markdown",
   "metadata": {},
   "source": [
    "Energy\n",
    "==="
   ]
  },
  {
   "cell_type": "code",
   "execution_count": 53,
   "metadata": {
    "collapsed": false
   },
   "outputs": [],
   "source": [
    "report_name = 'AnnualBuildingUtilityPerformanceSummary'\n",
    "#report_for_string = 'Entire Facility'\n",
    "table_name = 'Site and Source Energy'\n",
    "column_name = 'Total Energy'\n",
    "row_name = 'Total Site Energy'\n",
    "\n",
    "sql_query = 'select Value from TabularDataWithStrings WHERE ReportName=\\'' + report_name + '\\''\n",
    "#sql_query += ' and ReportForString=\\'' + report_for_string + '\\''\n",
    "sql_query += ' and TableName=\\'' + table_name + '\\''\n",
    "sql_query += ' and ColumnName=\\'' + column_name + '\\''\n",
    "sql_query += ' and RowName=\\'' + row_name + '\\''\n",
    "sql_query += ';'\n",
    "\n",
    "\n",
    "df = pd.read_sql_query(sql_query, con)\n",
    "energy_consumption = float(df.iloc[0]['Value'])*10**9*0.00094781712\n"
   ]
  },
  {
   "cell_type": "code",
   "execution_count": 54,
   "metadata": {
    "collapsed": false
   },
   "outputs": [
    {
     "name": "stdout",
     "output_type": "stream",
     "text": [
      "Total energy consumption: 1316186243.69 Btu\n",
      "EUI: 662.009903438 kBtu/ft2\n"
     ]
    }
   ],
   "source": [
    "print 'Total energy consumption: ' + str(energy_consumption) + ' Btu'\n",
    "print 'EUI: ' + str(energy_consumption/floor_area/1000) + ' kBtu/ft2'"
   ]
  },
  {
   "cell_type": "markdown",
   "metadata": {},
   "source": [
    "HVAC Sizing Summary Table Names\n",
    "---"
   ]
  },
  {
   "cell_type": "code",
   "execution_count": 55,
   "metadata": {
    "collapsed": false
   },
   "outputs": [
    {
     "name": "stdout",
     "output_type": "stream",
     "text": [
      "[u'Zone Cooling' u'Zone Heating' u'System Design Air Flow Rates']\n"
     ]
    }
   ],
   "source": [
    "df = pd.read_sql_query(\"SELECT TableName FROM TabularDataWithStrings WHERE ReportName=\\'HVACSizingSummary'\", con)\n",
    "print df['TableName'].unique()"
   ]
  },
  {
   "cell_type": "markdown",
   "metadata": {},
   "source": [
    "Zone Sizing\n",
    "==="
   ]
  },
  {
   "cell_type": "code",
   "execution_count": 56,
   "metadata": {
    "collapsed": false
   },
   "outputs": [],
   "source": [
    "zone_data = pd.DataFrame()"
   ]
  },
  {
   "cell_type": "markdown",
   "metadata": {},
   "source": [
    "Zone Names\n",
    "---"
   ]
  },
  {
   "cell_type": "code",
   "execution_count": 57,
   "metadata": {
    "collapsed": false
   },
   "outputs": [],
   "source": [
    "report_name = 'HVACSizingSummary'\n",
    "report_for_string = 'Entire Facility'\n",
    "table_name = 'Zone Cooling'\n",
    "column_name = 'Calculated Design Load'\n",
    "\n",
    "sql_query = 'select RowName from TabularDataWithStrings WHERE ReportName=\\'' + report_name + '\\''\n",
    "sql_query += ' and ReportForString=\\'' + report_for_string + '\\''\n",
    "sql_query += ' and TableName=\\'' + table_name + '\\''\n",
    "sql_query += ' and ColumnName=\\'' + column_name + '\\''\n",
    "sql_query += ';'\n",
    "\n",
    "df = pd.read_sql_query(sql_query, con)\n",
    "zone_data['Name'] = df\n",
    "\n",
    "if 'Name' in zone_data.columns:\n",
    "    zone_data.index = zone_data['Name']\n",
    "    del zone_data['Name']"
   ]
  },
  {
   "cell_type": "markdown",
   "metadata": {},
   "source": [
    "Floor Area\n",
    "---"
   ]
  },
  {
   "cell_type": "code",
   "execution_count": 58,
   "metadata": {
    "collapsed": false
   },
   "outputs": [],
   "source": [
    "report_name = 'InputVerificationandResultsSummary'\n",
    "report_for_string = 'Entire Facility'\n",
    "table_name = 'Zone Summary'\n",
    "column_name = 'Area'\n",
    "\n",
    "sql_query = 'select * from TabularDataWithStrings WHERE ReportName=\\'' + report_name + '\\''\n",
    "#sql_query += ' and ReportForString=\\'' + report_for_string + '\\''\n",
    "sql_query += ' and TableName=\\'' + table_name + '\\''\n",
    "#sql_query += ' and ColumnName=\\'' + column_name + '\\''\n",
    "sql_query += ';'\n",
    "\n",
    "df = pd.read_sql_query(sql_query, con)\n",
    "\n",
    "df.index = df['RowName']\n",
    "\n",
    "# Remove rows\n",
    "remove_rows = ['Total', 'Conditioned Total', 'Unconditioned Total', 'Not Part of Total']\n",
    "for remove_row in remove_rows:\n",
    "    df = df[df['RowName'] != remove_row]\n",
    "\n",
    "area = df[df['ColumnName']=='Area']['Value'].convert_objects(convert_numeric=True)*10.7639\n",
    "multiplier = df[df['ColumnName']=='Multipliers']['Value'].convert_objects(convert_numeric=True)\n",
    "    \n",
    "zone_data['FloorArea'] = area*multiplier"
   ]
  },
  {
   "cell_type": "code",
   "execution_count": 59,
   "metadata": {
    "collapsed": false
   },
   "outputs": [],
   "source": [
    "\n",
    "\n",
    "\n",
    "#df = pd.DataFrame()\n",
    "#df['Name'] = pd.read_sql_query(\"SELECT ZoneName FROM Zones;\", con)\n",
    "#df['FloorArea'] = pd.read_sql_query(\"SELECT FloorArea FROM Zones;\", con).convert_objects(convert_numeric=True)*10.7639#\n",
    "\n",
    "#df.index = df['Name']\n",
    "#if 'Name' in df.columns:\n",
    "#    del df['Name']\n",
    "\n",
    "#zone_data['FloorArea'] = df['FloorArea']"
   ]
  },
  {
   "cell_type": "markdown",
   "metadata": {},
   "source": [
    "Read Zone Design Loads\n",
    "---"
   ]
  },
  {
   "cell_type": "code",
   "execution_count": 60,
   "metadata": {
    "collapsed": false
   },
   "outputs": [],
   "source": [
    "queries = [\n",
    "    ['HVACSizingSummary', 'Zone Cooling', 'User Design Load', 'Design Cooling Load', 3.412], \n",
    "    ['HVACSizingSummary', 'Zone Heating', 'User Design Load', 'Design Heating Load', 3.412],\n",
    "]\n",
    "\n",
    "for query in queries:\n",
    "    sql_query = 'select Value from TabularDataWithStrings WHERE ReportName=\\'' + query[0] + '\\''\n",
    "    sql_query += ' and TableName=\\'' + query[1] + '\\''\n",
    "    sql_query += ' and ColumnName=\\'' + query[2] + '\\';'\n",
    "\n",
    "    df = pd.read_sql_query(sql_query, con)\n",
    "    df['Name'] = pd.read_sql_query(sql_query.replace('Value', 'RowName'), con)\n",
    "    df.index = df['Name']\n",
    "    zone_data[query[3]] = df['Value'].convert_objects(convert_numeric=True)*query[4]"
   ]
  },
  {
   "cell_type": "code",
   "execution_count": 61,
   "metadata": {
    "collapsed": false
   },
   "outputs": [],
   "source": [
    "zone_data['Design Cooling Load Density'] = zone_data['Design Cooling Load']/zone_data['FloorArea']\n",
    "zone_data['Design Heating Load Density'] = zone_data['Design Heating Load']/zone_data['FloorArea']"
   ]
  },
  {
   "cell_type": "code",
   "execution_count": 62,
   "metadata": {
    "collapsed": false
   },
   "outputs": [
    {
     "data": {
      "text/plain": [
       "'\\nVariables = [\\n    [\\'Zone Air System Sensible Heating Rate\\', \\'Model Cooling Load\\', 1/3.412],\\n    [\\'Zone Air System Sensible Cooling Rate\\', \\'Model Heating Load\\', 3.412]/\\n]\\n\\nfor i, Variable in enumerate(Variables):\\n    VariableName = Variable[0]\\n    OutputName = Variable[1]\\n    unit_conversion = Variable[2]\\n    min_val = []\\n    max_val = []\\n    index = []\\n    for KeyValue in zone_data.index:\\n        sql_query = \"SELECT * FROM ReportVariableDataDictionary\"\\n        sql_query += \" WHERE \"\\n        sql_query += \"KeyValue=\\'\" + KeyValue + \"\\'\"\\n        sql_query += \" AND \"\\n        sql_query += \"VariableName=\\'\" + VariableName + \"\\'\"\\n        sql_query += \";\"\\n\\n        df = pd.read_sql_query(sql_query, con)\\n        ReportVariableDataDictionaryIndex = str(df[\\'ReportVariableDataDictionaryIndex\\'][0])\\n\\n        sql_query = \"SELECT * FROM ReportVariableData\"\\n        sql_query += \" WHERE \"\\n        sql_query += \"ReportVariableDataDictionaryIndex=\\'\" + ReportVariableDataDictionaryIndex + \"\\'\"\\n        sql_query += \";\"\\n\\n        df = pd.read_sql_query(sql_query, con)\\n\\n        index.append(KeyValue)\\n        min_val.append(df[\\'VariableValue\\'].min()*unit_conversion)\\n        max_val.append(df[\\'VariableValue\\'].max()*unit_conversion)\\n\\n    zone_data[\\'Minimum \\' + OutputName] = pd.Series(min_val, index)\\n    zone_data[\\'Maximum \\' + OutputName] = pd.Series(max_val, index)  \\n'"
      ]
     },
     "execution_count": 62,
     "metadata": {},
     "output_type": "execute_result"
    }
   ],
   "source": [
    "\"\"\"\n",
    "Variables = [\n",
    "    ['Zone Air System Sensible Heating Rate', 'Model Cooling Load', 1/3.412],\n",
    "    ['Zone Air System Sensible Cooling Rate', 'Model Heating Load', 3.412]/\n",
    "]\n",
    "\n",
    "for i, Variable in enumerate(Variables):\n",
    "    VariableName = Variable[0]\n",
    "    OutputName = Variable[1]\n",
    "    unit_conversion = Variable[2]\n",
    "    min_val = []\n",
    "    max_val = []\n",
    "    index = []\n",
    "    for KeyValue in zone_data.index:\n",
    "        sql_query = \"SELECT * FROM ReportVariableDataDictionary\"\n",
    "        sql_query += \" WHERE \"\n",
    "        sql_query += \"KeyValue=\\'\" + KeyValue + \"'\"\n",
    "        sql_query += \" AND \"\n",
    "        sql_query += \"VariableName=\\'\" + VariableName + \"'\"\n",
    "        sql_query += \";\"\n",
    "\n",
    "        df = pd.read_sql_query(sql_query, con)\n",
    "        ReportVariableDataDictionaryIndex = str(df['ReportVariableDataDictionaryIndex'][0])\n",
    "\n",
    "        sql_query = \"SELECT * FROM ReportVariableData\"\n",
    "        sql_query += \" WHERE \"\n",
    "        sql_query += \"ReportVariableDataDictionaryIndex=\\'\" + ReportVariableDataDictionaryIndex + \"'\"\n",
    "        sql_query += \";\"\n",
    "\n",
    "        df = pd.read_sql_query(sql_query, con)\n",
    "\n",
    "        index.append(KeyValue)\n",
    "        min_val.append(df['VariableValue'].min()*unit_conversion)\n",
    "        max_val.append(df['VariableValue'].max()*unit_conversion)\n",
    "\n",
    "    zone_data['Minimum ' + OutputName] = pd.Series(min_val, index)\n",
    "    zone_data['Maximum ' + OutputName] = pd.Series(max_val, index)  \n",
    "\"\"\""
   ]
  },
  {
   "cell_type": "code",
   "execution_count": 63,
   "metadata": {
    "collapsed": false,
    "scrolled": true
   },
   "outputs": [
    {
     "data": {
      "text/html": [
       "<div style=\"max-height:1000px;max-width:1500px;overflow:auto;\">\n",
       "<table border=\"1\" class=\"dataframe\">\n",
       "  <thead>\n",
       "    <tr style=\"text-align: right;\">\n",
       "      <th></th>\n",
       "      <th>FloorArea</th>\n",
       "      <th>Design Cooling Load</th>\n",
       "      <th>Design Heating Load</th>\n",
       "      <th>Design Cooling Load Density</th>\n",
       "      <th>Design Heating Load Density</th>\n",
       "    </tr>\n",
       "    <tr>\n",
       "      <th>Name</th>\n",
       "      <th></th>\n",
       "      <th></th>\n",
       "      <th></th>\n",
       "      <th></th>\n",
       "      <th></th>\n",
       "    </tr>\n",
       "  </thead>\n",
       "  <tbody>\n",
       "    <tr>\n",
       "      <th>ZONE 1</th>\n",
       "      <td> 1999.93262</td>\n",
       "      <td> 83061.96684</td>\n",
       "      <td> 22200.10976</td>\n",
       "      <td> 41.532383</td>\n",
       "      <td> 11.100429</td>\n",
       "    </tr>\n",
       "  </tbody>\n",
       "</table>\n",
       "</div>"
      ],
      "text/plain": [
       "         FloorArea  Design Cooling Load  Design Heating Load  \\\n",
       "Name                                                           \n",
       "ZONE 1  1999.93262          83061.96684          22200.10976   \n",
       "\n",
       "        Design Cooling Load Density  Design Heating Load Density  \n",
       "Name                                                              \n",
       "ZONE 1                    41.532383                    11.100429  "
      ]
     },
     "execution_count": 63,
     "metadata": {},
     "output_type": "execute_result"
    }
   ],
   "source": [
    "zone_data.head()"
   ]
  },
  {
   "cell_type": "markdown",
   "metadata": {
    "collapsed": false
   },
   "source": [
    "Plots\n",
    "---"
   ]
  },
  {
   "cell_type": "code",
   "execution_count": 64,
   "metadata": {
    "collapsed": false
   },
   "outputs": [
    {
     "data": {
      "text/plain": [
       "<matplotlib.text.Text at 0xdca0f28>"
      ]
     },
     "execution_count": 64,
     "metadata": {},
     "output_type": "execute_result"
    },
    {
     "data": {
      "image/png": "[encoded data removed]",
      "text/plain": [
       "<matplotlib.figure.Figure at 0xdc9f588>"
      ]
     },
     "metadata": {},
     "output_type": "display_data"
    }
   ],
   "source": [
    "ax = zone_data.plot(kind='scatter', x='Design Heating Load', y='Design Cooling Load', figsize=(15, 5));\n",
    "ax.set_title('Zone Design Cooling Load vs Design Heating Load')\n",
    "ax.set_ylabel('Cooling Load [Btu/hr]')\n",
    "ax.set_xlabel('Heating Load [Btu/hr]')"
   ]
  },
  {
   "cell_type": "code",
   "execution_count": 65,
   "metadata": {
    "collapsed": false
   },
   "outputs": [
    {
     "data": {
      "text/plain": [
       "<matplotlib.text.Text at 0xde1d080>"
      ]
     },
     "execution_count": 65,
     "metadata": {},
     "output_type": "execute_result"
    },
    {
     "data": {
      "image/png": "[encoded data removed]",
      "text/plain": [
       "<matplotlib.figure.Figure at 0xdc9f9e8>"
      ]
     },
     "metadata": {},
     "output_type": "display_data"
    }
   ],
   "source": [
    "ax = zone_data.plot(kind='scatter', x='Design Heating Load Density', y='Design Cooling Load Density', figsize=(15, 5));\n",
    "ax.set_title('Zone Design Cooling Load Density vs Design Heating Load Density')\n",
    "ax.set_ylabel('Cooling Load Density [Btu/hr]')\n",
    "ax.set_xlabel('Heating Load Density [Btu/hr]')"
   ]
  },
  {
   "cell_type": "markdown",
   "metadata": {},
   "source": [
    "Zone Cooling Load Density Threshold\n",
    "---"
   ]
  },
  {
   "cell_type": "code",
   "execution_count": 66,
   "metadata": {
    "collapsed": false
   },
   "outputs": [
    {
     "name": "stdout",
     "output_type": "stream",
     "text": [
      "Design cooling threshold: 50 Btu/hr-ft2\n",
      "Number of zones above design cooling threshold: 0\n"
     ]
    },
    {
     "data": {
      "text/html": [
       "<div style=\"max-height:1000px;max-width:1500px;overflow:auto;\">\n",
       "<table border=\"1\" class=\"dataframe\">\n",
       "  <thead>\n",
       "    <tr style=\"text-align: right;\">\n",
       "      <th></th>\n",
       "      <th>FloorArea</th>\n",
       "      <th>Design Cooling Load</th>\n",
       "      <th>Design Heating Load</th>\n",
       "      <th>Design Cooling Load Density</th>\n",
       "      <th>Design Heating Load Density</th>\n",
       "    </tr>\n",
       "    <tr>\n",
       "      <th>Name</th>\n",
       "      <th></th>\n",
       "      <th></th>\n",
       "      <th></th>\n",
       "      <th></th>\n",
       "      <th></th>\n",
       "    </tr>\n",
       "  </thead>\n",
       "  <tbody>\n",
       "  </tbody>\n",
       "</table>\n",
       "</div>"
      ],
      "text/plain": [
       "Empty DataFrame\n",
       "Columns: [FloorArea, Design Cooling Load, Design Heating Load, Design Cooling Load Density, Design Heating Load Density]\n",
       "Index: []"
      ]
     },
     "execution_count": 66,
     "metadata": {},
     "output_type": "execute_result"
    }
   ],
   "source": [
    "threshold = 50 #Btu/ft2\n",
    "zone_cooling_threshold = zone_data[zone_data['Design Cooling Load Density'] > threshold]\n",
    "zone_cooling_threshold = zone_cooling_threshold.sort(['Design Cooling Load Density'], ascending=[0])\n",
    "\n",
    "print 'Design cooling threshold: ' + str(threshold) + ' Btu/hr-ft2'\n",
    "print 'Number of zones above design cooling threshold: ' + str(zone_cooling_threshold['Design Cooling Load Density'].count())\n",
    "zone_cooling_threshold"
   ]
  },
  {
   "cell_type": "markdown",
   "metadata": {},
   "source": [
    "Zone Heating Load Density Threshold\n",
    "---"
   ]
  },
  {
   "cell_type": "code",
   "execution_count": 67,
   "metadata": {
    "collapsed": false
   },
   "outputs": [
    {
     "name": "stdout",
     "output_type": "stream",
     "text": [
      "Design heating threshold: 50 Btu/hr-ft2\n",
      "Number of zones above design heating threshold: 0\n"
     ]
    },
    {
     "data": {
      "text/html": [
       "<div style=\"max-height:1000px;max-width:1500px;overflow:auto;\">\n",
       "<table border=\"1\" class=\"dataframe\">\n",
       "  <thead>\n",
       "    <tr style=\"text-align: right;\">\n",
       "      <th></th>\n",
       "      <th>FloorArea</th>\n",
       "      <th>Design Cooling Load</th>\n",
       "      <th>Design Heating Load</th>\n",
       "      <th>Design Cooling Load Density</th>\n",
       "      <th>Design Heating Load Density</th>\n",
       "    </tr>\n",
       "    <tr>\n",
       "      <th>Name</th>\n",
       "      <th></th>\n",
       "      <th></th>\n",
       "      <th></th>\n",
       "      <th></th>\n",
       "      <th></th>\n",
       "    </tr>\n",
       "  </thead>\n",
       "  <tbody>\n",
       "  </tbody>\n",
       "</table>\n",
       "</div>"
      ],
      "text/plain": [
       "Empty DataFrame\n",
       "Columns: [FloorArea, Design Cooling Load, Design Heating Load, Design Cooling Load Density, Design Heating Load Density]\n",
       "Index: []"
      ]
     },
     "execution_count": 67,
     "metadata": {},
     "output_type": "execute_result"
    }
   ],
   "source": [
    "threshold = 50 #Btu/ft2\n",
    "zone_heating_threshold = zone_data[zone_data['Design Heating Load Density'] > threshold]\n",
    "zone_heating_threshold = zone_heating_threshold.sort(['Design Heating Load Density'], ascending=[0])\n",
    "\n",
    "print 'Design heating threshold: ' + str(threshold) + ' Btu/hr-ft2'\n",
    "print 'Number of zones above design heating threshold: ' + str(zone_heating_threshold['Design Heating Load Density'].count())\n",
    "zone_heating_threshold"
   ]
  },
  {
   "cell_type": "markdown",
   "metadata": {},
   "source": [
    "Air System Sizing\n",
    "==="
   ]
  },
  {
   "cell_type": "markdown",
   "metadata": {},
   "source": [
    "AHU Names\n",
    "---"
   ]
  },
  {
   "cell_type": "code",
   "execution_count": 68,
   "metadata": {
    "collapsed": true
   },
   "outputs": [],
   "source": [
    "ahu_sizing = pd.DataFrame()\n",
    "ahu_hourly = pd.DataFrame()"
   ]
  },
  {
   "cell_type": "code",
   "execution_count": 69,
   "metadata": {
    "collapsed": false
   },
   "outputs": [],
   "source": [
    "report_name = 'HVACSizingSummary'\n",
    "report_for_string = 'Entire Facility'\n",
    "table_name = 'System Design Air Flow Rates'\n",
    "column_name = 'Calculated cooling'\n",
    "\n",
    "sql_query = 'select RowName from TabularDataWithStrings WHERE ReportName=\\'' + report_name + '\\''\n",
    "sql_query += ' and ReportForString=\\'' + report_for_string + '\\''\n",
    "sql_query += ' and TableName=\\'' + table_name + '\\''\n",
    "sql_query += ' and ColumnName=\\'' + column_name + '\\''\n",
    "sql_query += ';'\n",
    "\n",
    "df = pd.read_sql_query(sql_query, con)\n",
    "ahu_sizing['Name'] = df"
   ]
  },
  {
   "cell_type": "markdown",
   "metadata": {},
   "source": [
    "AHU Sizing\n",
    "---"
   ]
  },
  {
   "cell_type": "code",
   "execution_count": 70,
   "metadata": {
    "collapsed": false
   },
   "outputs": [],
   "source": [
    "#Calculated cooling [m3/s]\tUser cooling [m3/s]\tCalculated heating [m3/s]\tUser heating [m3/s]\n",
    "\n",
    "queries = [\n",
    "    ['HVACSizingSummary', 'System Design Air Flow Rates', 'User cooling', 'Cooling Design Air Flow Rate', 2118.88],\n",
    "    ['SystemSummary', 'Economizer', 'Minimum Outdoor Air', 'Design Minimum Outdoor Air Flow Rate', 2118.88],\n",
    "    ['SystemSummary', 'Economizer', 'Maximum Outdoor Air', 'Design Maximum Outdoor Air Flow Rate', 2118.88]\n",
    "]\n",
    "\n",
    "for query in queries:\n",
    "    sql_query = 'select Value from TabularDataWithStrings WHERE ReportName=\\'' + query[0] + '\\''\n",
    "    sql_query += ' and TableName=\\'' + query[1] + '\\''\n",
    "    sql_query += ' and ColumnName=\\'' + query[2] + '\\';'\n",
    "    df = pd.read_sql_query(sql_query, con)\n",
    "    ahu_sizing[query[3]] = df['Value'].convert_objects(convert_numeric=True)\n",
    "    \n",
    "    # Check if series has values and convert units\n",
    "    if isinstance(ahu_sizing.loc[0][query[3]], float):\n",
    "        ahu_sizing[query[3]] = ahu_sizing[query[3]]*query[4]"
   ]
  },
  {
   "cell_type": "code",
   "execution_count": 71,
   "metadata": {
    "collapsed": false
   },
   "outputs": [],
   "source": [
    "ahu_sizing.index = ahu_sizing['Name']\n",
    "del ahu_sizing['Name']\n",
    "#print ahu_sizing"
   ]
  },
  {
   "cell_type": "code",
   "execution_count": 72,
   "metadata": {
    "collapsed": false
   },
   "outputs": [
    {
     "data": {
      "text/plain": [
       "<matplotlib.axes._subplots.AxesSubplot at 0xcfb7358>"
      ]
     },
     "execution_count": 72,
     "metadata": {},
     "output_type": "execute_result"
    },
    {
     "data": {
      "image/png": "[encoded data removed]",
      "text/plain": [
       "<matplotlib.figure.Figure at 0xde3db70>"
      ]
     },
     "metadata": {},
     "output_type": "display_data"
    }
   ],
   "source": [
    "ahu_sizing.plot(kind='bar', figsize=(15, 5))"
   ]
  },
  {
   "cell_type": "markdown",
   "metadata": {},
   "source": []
  },
  {
   "cell_type": "markdown",
   "metadata": {},
   "source": [
    "Hourly Simulation Results\n",
    "---"
   ]
  },
  {
   "cell_type": "code",
   "execution_count": 84,
   "metadata": {
    "collapsed": false
   },
   "outputs": [
    {
     "name": "stdout",
     "output_type": "stream",
     "text": [
      "[u'AHU 1']\n"
     ]
    }
   ],
   "source": [
    "#KeyValue = 'SUPPORT AHU'\n",
    "Variables = [\n",
    "    #['System Node Standard Density Volume Flow Rate', 'Air System Mixed Air Volume Flow Rate', 2118.88],\n",
    "    #['Air System Mixed Air Mass Flow Rate', 'Air System Outdoor Air Volume Flow Rate', 2118.88],\n",
    "    ['Air System Mixed Air Mass Flow Rate', 'Air System Mixed Air Volume Flow Rate', 7936.64144/0.075/60],\n",
    "    ['Air System Outdoor Air Flow Fraction', 'Air System Outdoor Air Flow Fraction', 1],\n",
    "    ['Air System Outdoor Air Mass Flow Rate', 'Air System Outdoor Air Volume Flow Rate', 7936.64144/0.075/60]\n",
    "]\n",
    "\n",
    "KeyValues = list(ahu_sizing.index)\n",
    "print KeyValues\n",
    "\n",
    "#KeyValues += ['SUPPORT AHU OUTDOOR AIR NODE']\n",
    "#print KeyValues\n",
    "\n",
    "for i, Variable in enumerate(Variables):\n",
    "    VariableName = Variable[0]\n",
    "    OutputName = Variable[1]\n",
    "    unit_conversion = Variable[2]\n",
    "    min_val = []\n",
    "    max_val = []\n",
    "    index = []\n",
    "    for KeyValue in KeyValues:\n",
    "        sql_query = \"SELECT * FROM ReportVariableDataDictionary\"\n",
    "        sql_query += \" WHERE \"\n",
    "        sql_query += \"KeyValue=\\'\" + KeyValue + \"'\"\n",
    "        sql_query += \" AND \"\n",
    "        sql_query += \"VariableName=\\'\" + VariableName + \"'\"\n",
    "        sql_query += \";\"\n",
    "\n",
    "        df = pd.read_sql_query(sql_query, con)\n",
    "        ReportVariableDataDictionaryIndex = str(df['ReportVariableDataDictionaryIndex'][0])\n",
    "\n",
    "        sql_query = \"SELECT * FROM ReportVariableData\"\n",
    "        sql_query += \" WHERE \"\n",
    "        sql_query += \"ReportVariableDataDictionaryIndex=\\'\" + ReportVariableDataDictionaryIndex + \"'\"\n",
    "        sql_query += \";\"\n",
    "\n",
    "        df = pd.read_sql_query(sql_query, con)\n",
    "        #ReportVariableData = df['VariableValue']\n",
    "        #ReportVariableData.plot()\n",
    "\n",
    "        ahu_hourly[KeyValue + ' ' + OutputName] = df['VariableValue']*unit_conversion\n",
    "        \n",
    "        index.append(KeyValue)\n",
    "        min_val.append(df['VariableValue'].min()*unit_conversion)\n",
    "        max_val.append(df['VariableValue'].max()*unit_conversion)\n",
    "\n",
    "    ahu_sizing['Minimum ' + OutputName] = pd.Series(min_val, index)\n",
    "    ahu_sizing['Maximum ' + OutputName] = pd.Series(max_val, index)"
   ]
  },
  {
   "cell_type": "code",
   "execution_count": 85,
   "metadata": {
    "collapsed": false
   },
   "outputs": [
    {
     "data": {
      "text/html": [
       "<div style=\"max-height:1000px;max-width:1500px;overflow:auto;\">\n",
       "<table border=\"1\" class=\"dataframe\">\n",
       "  <thead>\n",
       "    <tr style=\"text-align: right;\">\n",
       "      <th></th>\n",
       "      <th>Cooling Design Air Flow Rate</th>\n",
       "      <th>Design Minimum Outdoor Air Flow Rate</th>\n",
       "      <th>Design Maximum Outdoor Air Flow Rate</th>\n",
       "      <th>Minimum Air System Mixed Air Volume Flow Rate</th>\n",
       "      <th>Maximum Air System Mixed Air Volume Flow Rate</th>\n",
       "      <th>Minimum Air System Outdoor Air Flow Fraction</th>\n",
       "      <th>Maximum Air System Outdoor Air Flow Fraction</th>\n",
       "      <th>Minimum Air System Outdoor Air Volume Flow Rate</th>\n",
       "      <th>Maximum Air System Outdoor Air Volume Flow Rate</th>\n",
       "    </tr>\n",
       "    <tr>\n",
       "      <th>Name</th>\n",
       "      <th></th>\n",
       "      <th></th>\n",
       "      <th></th>\n",
       "      <th></th>\n",
       "      <th></th>\n",
       "      <th></th>\n",
       "      <th></th>\n",
       "      <th></th>\n",
       "      <th></th>\n",
       "    </tr>\n",
       "  </thead>\n",
       "  <tbody>\n",
       "    <tr>\n",
       "      <th>AHU 1</th>\n",
       "      <td> 3644.4736</td>\n",
       "      <td> </td>\n",
       "      <td> </td>\n",
       "      <td> 3610.154858</td>\n",
       "      <td> 3610.154858</td>\n",
       "      <td> 0.182452</td>\n",
       "      <td> 0.182452</td>\n",
       "      <td> 658.679171</td>\n",
       "      <td> 658.679171</td>\n",
       "    </tr>\n",
       "  </tbody>\n",
       "</table>\n",
       "</div>"
      ],
      "text/plain": [
       "       Cooling Design Air Flow Rate Design Minimum Outdoor Air Flow Rate  \\\n",
       "Name                                                                       \n",
       "AHU 1                     3644.4736                                        \n",
       "\n",
       "      Design Maximum Outdoor Air Flow Rate  \\\n",
       "Name                                         \n",
       "AHU 1                                        \n",
       "\n",
       "       Minimum Air System Mixed Air Volume Flow Rate  \\\n",
       "Name                                                   \n",
       "AHU 1                                    3610.154858   \n",
       "\n",
       "       Maximum Air System Mixed Air Volume Flow Rate  \\\n",
       "Name                                                   \n",
       "AHU 1                                    3610.154858   \n",
       "\n",
       "       Minimum Air System Outdoor Air Flow Fraction  \\\n",
       "Name                                                  \n",
       "AHU 1                                      0.182452   \n",
       "\n",
       "       Maximum Air System Outdoor Air Flow Fraction  \\\n",
       "Name                                                  \n",
       "AHU 1                                      0.182452   \n",
       "\n",
       "       Minimum Air System Outdoor Air Volume Flow Rate  \\\n",
       "Name                                                     \n",
       "AHU 1                                       658.679171   \n",
       "\n",
       "       Maximum Air System Outdoor Air Volume Flow Rate  \n",
       "Name                                                    \n",
       "AHU 1                                       658.679171  "
      ]
     },
     "execution_count": 85,
     "metadata": {},
     "output_type": "execute_result"
    }
   ],
   "source": [
    "ahu_sizing"
   ]
  },
  {
   "cell_type": "code",
   "execution_count": 86,
   "metadata": {
    "collapsed": false
   },
   "outputs": [
    {
     "name": "stdout",
     "output_type": "stream",
     "text": [
      "AHU Minimum Outdoor Air Fraction\n",
      "----------------------------------\n",
      "AHU 1: 0.182451777526\n"
     ]
    }
   ],
   "source": [
    "print 'AHU Minimum Outdoor Air Fraction'\n",
    "print '----------------------------------'\n",
    "for ahu in ahu_sizing.index:\n",
    "    print ahu + ': ' + str(ahu_sizing['Minimum Air System Outdoor Air Flow Fraction'][ahu])"
   ]
  },
  {
   "cell_type": "code",
   "execution_count": 87,
   "metadata": {
    "collapsed": false
   },
   "outputs": [
    {
     "name": "stdout",
     "output_type": "stream",
     "text": [
      "AHU Maximum Design Supply Air Flow Rate\n",
      "----------------------------------\n",
      "AHU 1: 3644.4736\n"
     ]
    }
   ],
   "source": [
    "print 'AHU Maximum Design Supply Air Flow Rate'\n",
    "print '----------------------------------'\n",
    "for ahu in ahu_sizing.index:\n",
    "    print ahu + ': ' + str(ahu_sizing['Cooling Design Air Flow Rate'][ahu])"
   ]
  },
  {
   "cell_type": "code",
   "execution_count": 88,
   "metadata": {
    "collapsed": false
   },
   "outputs": [
    {
     "name": "stdout",
     "output_type": "stream",
     "text": [
      "AHU Maximum Simulation Supply Air Flow Rate\n",
      "----------------------------------\n",
      "AHU 1: 3610.15485751\n"
     ]
    }
   ],
   "source": [
    "print 'AHU Maximum Simulation Supply Air Flow Rate'\n",
    "print '----------------------------------'\n",
    "for ahu in ahu_sizing.index:\n",
    "    print ahu + ': ' + str(ahu_sizing['Maximum Air System Mixed Air Volume Flow Rate'][ahu])"
   ]
  },
  {
   "cell_type": "markdown",
   "metadata": {},
   "source": [
    "Plots\n",
    "---"
   ]
  },
  {
   "cell_type": "code",
   "execution_count": 89,
   "metadata": {
    "collapsed": false
   },
   "outputs": [
    {
     "name": "stdout",
     "output_type": "stream",
     "text": [
      "AHU 1 Air System Mixed Air Volume Flow Rate\n",
      "AHU 1 Air System Outdoor Air Volume Flow Rate\n",
      "Minimum Supply Air Flow Rate: 3610.15485751 cfm\n",
      "Minimum Outdoor Air Flow Rate: 658.679170896 cfm\n"
     ]
    },
    {
     "data": {
      "text/plain": [
       "<matplotlib.text.Text at 0xe2f8908>"
      ]
     },
     "execution_count": 89,
     "metadata": {},
     "output_type": "execute_result"
    },
    {
     "data": {
      "image/png": "[encoded data removed]",
      "text/plain": [
       "<matplotlib.figure.Figure at 0xdca7390>"
      ]
     },
     "metadata": {},
     "output_type": "display_data"
    }
   ],
   "source": [
    "df = pd.DataFrame()\n",
    "\n",
    "ahu_name = ahu_sizing.index[0].upper()\n",
    "sa_name = ahu_name + ' Air System Mixed Air Volume Flow Rate'\n",
    "oa_name = ahu_name + ' Air System Outdoor Air Volume Flow Rate'\n",
    "\n",
    "print sa_name\n",
    "print oa_name\n",
    "\n",
    "df[sa_name] = ahu_hourly[sa_name]\n",
    "df[oa_name] = ahu_hourly[oa_name]\n",
    "oa_frac = df[oa_name] / df[sa_name]\n",
    "\n",
    "print 'Minimum Supply Air Flow Rate: ' + str(df[sa_name].min()) + ' cfm'\n",
    "print 'Minimum Outdoor Air Flow Rate: ' + str(df[oa_name].min()) + ' cfm'\n",
    "\n",
    "fig, axes = plt.subplots(nrows=2, ncols=1, figsize=(15, 12))\n",
    "#plt.ylabel('Heating Rate [MBH]')\n",
    "\n",
    "df.plot(ax=axes[0]); axes[0].set_title(ahu_name + ' Supply Air vs Outdoor Air Flow Rates'); \n",
    "#ax.set_title('Supply Air vs Outdoor Air Flow Rates')\n",
    "axes[0].set_ylabel('Air Flow Rate [cfm]')\n",
    "\n",
    "df = pd.DataFrame()\n",
    "\n",
    "oa_frac.plot(ax=axes[1]); axes[1].set_title(ahu_name + ' Outdoor Air Fraction'); \n",
    "#ax.set_title('Supply Air vs Outdoor Air Flow Rates')\n",
    "axes[1].set_ylabel('Outdoor Air Fraction')\n",
    "axes[1].set_xlabel('Time [hr]')"
   ]
  },
  {
   "cell_type": "code",
   "execution_count": 90,
   "metadata": {
    "collapsed": false
   },
   "outputs": [
    {
     "data": {
      "text/plain": [
       "<matplotlib.text.Text at 0xee3e5f8>"
      ]
     },
     "execution_count": 90,
     "metadata": {},
     "output_type": "execute_result"
    },
    {
     "data": {
      "image/png": "[encoded data removed]",
      "text/plain": [
       "<matplotlib.figure.Figure at 0xdc991d0>"
      ]
     },
     "metadata": {},
     "output_type": "display_data"
    }
   ],
   "source": [
    "df = pd.DataFrame({'Design': ahu_sizing['Design Minimum Outdoor Air Flow Rate'], \n",
    "                   'Simulation': ahu_sizing['Minimum Air System Outdoor Air Volume Flow Rate']})\n",
    "ax = df.plot(kind='bar', figsize=(15, 5))\n",
    "ax.set_title('Minimum Outdoor Air Flow')\n",
    "\n",
    "ax.set_xlabel(\"Air Handling Unit\")\n",
    "ax.set_ylabel(\"Air Flow Rate [cfm]\")"
   ]
  },
  {
   "cell_type": "code",
   "execution_count": 91,
   "metadata": {
    "collapsed": false
   },
   "outputs": [
    {
     "data": {
      "text/plain": [
       "<matplotlib.text.Text at 0xdca3128>"
      ]
     },
     "execution_count": 91,
     "metadata": {},
     "output_type": "execute_result"
    },
    {
     "data": {
      "image/png": "[encoded data removed]",
      "text/plain": [
       "<matplotlib.figure.Figure at 0xe6ae048>"
      ]
     },
     "metadata": {},
     "output_type": "display_data"
    }
   ],
   "source": [
    "df = pd.DataFrame({'Design': ahu_sizing['Cooling Design Air Flow Rate'], \n",
    "                   'Simulation': ahu_sizing['Maximum Air System Mixed Air Volume Flow Rate']})\n",
    "ax = df.plot(kind='bar', figsize=(15, 5))\n",
    "ax.set_title('Maximum Supply Air Flow')\n",
    "\n",
    "ax.set_xlabel(\"Air Handling Unit\")\n",
    "ax.set_ylabel(\"Air Flow Rate [cfm]\")"
   ]
  },
  {
   "cell_type": "markdown",
   "metadata": {},
   "source": [
    "Total Air Flow\n",
    "---"
   ]
  },
  {
   "cell_type": "code",
   "execution_count": 92,
   "metadata": {
    "collapsed": false
   },
   "outputs": [
    {
     "ename": "KeyError",
     "evalue": "'AEI Cooling Design Air Flow Rate'",
     "output_type": "error",
     "traceback": [
      "\u001b[1;31m---------------------------------------------------------------------------\u001b[0m",
      "\u001b[1;31mKeyError\u001b[0m                                  Traceback (most recent call last)",
      "\u001b[1;32m<ipython-input-92-71fbc977bb1f>\u001b[0m in \u001b[0;36m<module>\u001b[1;34m()\u001b[0m\n\u001b[0;32m      1\u001b[0m \u001b[0mmodel_val\u001b[0m \u001b[1;33m=\u001b[0m \u001b[0mahu_sizing\u001b[0m\u001b[1;33m[\u001b[0m\u001b[1;34m'Cooling Design Air Flow Rate'\u001b[0m\u001b[1;33m]\u001b[0m\u001b[1;33m.\u001b[0m\u001b[0msum\u001b[0m\u001b[1;33m(\u001b[0m\u001b[1;33m)\u001b[0m\u001b[1;33m\u001b[0m\u001b[0m\n\u001b[0;32m      2\u001b[0m \u001b[0msim_val\u001b[0m \u001b[1;33m=\u001b[0m \u001b[0mahu_sizing\u001b[0m\u001b[1;33m[\u001b[0m\u001b[1;34m'Maximum Air System Mixed Air Volume Flow Rate'\u001b[0m\u001b[1;33m]\u001b[0m\u001b[1;33m.\u001b[0m\u001b[0msum\u001b[0m\u001b[1;33m(\u001b[0m\u001b[1;33m)\u001b[0m\u001b[1;33m\u001b[0m\u001b[0m\n\u001b[1;32m----> 3\u001b[1;33m \u001b[0maei_val\u001b[0m \u001b[1;33m=\u001b[0m \u001b[0mahu_sizing\u001b[0m\u001b[1;33m[\u001b[0m\u001b[1;34m'AEI Cooling Design Air Flow Rate'\u001b[0m\u001b[1;33m]\u001b[0m\u001b[1;33m.\u001b[0m\u001b[0msum\u001b[0m\u001b[1;33m(\u001b[0m\u001b[1;33m)\u001b[0m\u001b[1;33m\u001b[0m\u001b[0m\n\u001b[0m\u001b[0;32m      4\u001b[0m \u001b[0mper_diff\u001b[0m \u001b[1;33m=\u001b[0m \u001b[1;33m(\u001b[0m\u001b[0mmodel_val\u001b[0m \u001b[1;33m-\u001b[0m \u001b[0maei_val\u001b[0m\u001b[1;33m)\u001b[0m \u001b[1;33m/\u001b[0m \u001b[1;33m(\u001b[0m\u001b[0maei_val\u001b[0m\u001b[1;33m)\u001b[0m\u001b[1;33m*\u001b[0m\u001b[1;36m100.0\u001b[0m\u001b[1;33m\u001b[0m\u001b[0m\n\u001b[0;32m      5\u001b[0m \u001b[1;33m\u001b[0m\u001b[0m\n",
      "\u001b[1;32mC:\\Anaconda\\lib\\site-packages\\pandas\\core\\frame.pyc\u001b[0m in \u001b[0;36m__getitem__\u001b[1;34m(self, key)\u001b[0m\n\u001b[0;32m   1778\u001b[0m             \u001b[1;32mreturn\u001b[0m \u001b[0mself\u001b[0m\u001b[1;33m.\u001b[0m\u001b[0m_getitem_multilevel\u001b[0m\u001b[1;33m(\u001b[0m\u001b[0mkey\u001b[0m\u001b[1;33m)\u001b[0m\u001b[1;33m\u001b[0m\u001b[0m\n\u001b[0;32m   1779\u001b[0m         \u001b[1;32melse\u001b[0m\u001b[1;33m:\u001b[0m\u001b[1;33m\u001b[0m\u001b[0m\n\u001b[1;32m-> 1780\u001b[1;33m             \u001b[1;32mreturn\u001b[0m \u001b[0mself\u001b[0m\u001b[1;33m.\u001b[0m\u001b[0m_getitem_column\u001b[0m\u001b[1;33m(\u001b[0m\u001b[0mkey\u001b[0m\u001b[1;33m)\u001b[0m\u001b[1;33m\u001b[0m\u001b[0m\n\u001b[0m\u001b[0;32m   1781\u001b[0m \u001b[1;33m\u001b[0m\u001b[0m\n\u001b[0;32m   1782\u001b[0m     \u001b[1;32mdef\u001b[0m \u001b[0m_getitem_column\u001b[0m\u001b[1;33m(\u001b[0m\u001b[0mself\u001b[0m\u001b[1;33m,\u001b[0m \u001b[0mkey\u001b[0m\u001b[1;33m)\u001b[0m\u001b[1;33m:\u001b[0m\u001b[1;33m\u001b[0m\u001b[0m\n",
      "\u001b[1;32mC:\\Anaconda\\lib\\site-packages\\pandas\\core\\frame.pyc\u001b[0m in \u001b[0;36m_getitem_column\u001b[1;34m(self, key)\u001b[0m\n\u001b[0;32m   1785\u001b[0m         \u001b[1;31m# get column\u001b[0m\u001b[1;33m\u001b[0m\u001b[1;33m\u001b[0m\u001b[0m\n\u001b[0;32m   1786\u001b[0m         \u001b[1;32mif\u001b[0m \u001b[0mself\u001b[0m\u001b[1;33m.\u001b[0m\u001b[0mcolumns\u001b[0m\u001b[1;33m.\u001b[0m\u001b[0mis_unique\u001b[0m\u001b[1;33m:\u001b[0m\u001b[1;33m\u001b[0m\u001b[0m\n\u001b[1;32m-> 1787\u001b[1;33m             \u001b[1;32mreturn\u001b[0m \u001b[0mself\u001b[0m\u001b[1;33m.\u001b[0m\u001b[0m_get_item_cache\u001b[0m\u001b[1;33m(\u001b[0m\u001b[0mkey\u001b[0m\u001b[1;33m)\u001b[0m\u001b[1;33m\u001b[0m\u001b[0m\n\u001b[0m\u001b[0;32m   1788\u001b[0m \u001b[1;33m\u001b[0m\u001b[0m\n\u001b[0;32m   1789\u001b[0m         \u001b[1;31m# duplicate columns & possible reduce dimensionaility\u001b[0m\u001b[1;33m\u001b[0m\u001b[1;33m\u001b[0m\u001b[0m\n",
      "\u001b[1;32mC:\\Anaconda\\lib\\site-packages\\pandas\\core\\generic.pyc\u001b[0m in \u001b[0;36m_get_item_cache\u001b[1;34m(self, item)\u001b[0m\n\u001b[0;32m   1066\u001b[0m         \u001b[0mres\u001b[0m \u001b[1;33m=\u001b[0m \u001b[0mcache\u001b[0m\u001b[1;33m.\u001b[0m\u001b[0mget\u001b[0m\u001b[1;33m(\u001b[0m\u001b[0mitem\u001b[0m\u001b[1;33m)\u001b[0m\u001b[1;33m\u001b[0m\u001b[0m\n\u001b[0;32m   1067\u001b[0m         \u001b[1;32mif\u001b[0m \u001b[0mres\u001b[0m \u001b[1;32mis\u001b[0m \u001b[0mNone\u001b[0m\u001b[1;33m:\u001b[0m\u001b[1;33m\u001b[0m\u001b[0m\n\u001b[1;32m-> 1068\u001b[1;33m             \u001b[0mvalues\u001b[0m \u001b[1;33m=\u001b[0m \u001b[0mself\u001b[0m\u001b[1;33m.\u001b[0m\u001b[0m_data\u001b[0m\u001b[1;33m.\u001b[0m\u001b[0mget\u001b[0m\u001b[1;33m(\u001b[0m\u001b[0mitem\u001b[0m\u001b[1;33m)\u001b[0m\u001b[1;33m\u001b[0m\u001b[0m\n\u001b[0m\u001b[0;32m   1069\u001b[0m             \u001b[0mres\u001b[0m \u001b[1;33m=\u001b[0m \u001b[0mself\u001b[0m\u001b[1;33m.\u001b[0m\u001b[0m_box_item_values\u001b[0m\u001b[1;33m(\u001b[0m\u001b[0mitem\u001b[0m\u001b[1;33m,\u001b[0m \u001b[0mvalues\u001b[0m\u001b[1;33m)\u001b[0m\u001b[1;33m\u001b[0m\u001b[0m\n\u001b[0;32m   1070\u001b[0m             \u001b[0mcache\u001b[0m\u001b[1;33m[\u001b[0m\u001b[0mitem\u001b[0m\u001b[1;33m]\u001b[0m \u001b[1;33m=\u001b[0m \u001b[0mres\u001b[0m\u001b[1;33m\u001b[0m\u001b[0m\n",
      "\u001b[1;32mC:\\Anaconda\\lib\\site-packages\\pandas\\core\\internals.pyc\u001b[0m in \u001b[0;36mget\u001b[1;34m(self, item, fastpath)\u001b[0m\n\u001b[0;32m   2847\u001b[0m \u001b[1;33m\u001b[0m\u001b[0m\n\u001b[0;32m   2848\u001b[0m             \u001b[1;32mif\u001b[0m \u001b[1;32mnot\u001b[0m \u001b[0misnull\u001b[0m\u001b[1;33m(\u001b[0m\u001b[0mitem\u001b[0m\u001b[1;33m)\u001b[0m\u001b[1;33m:\u001b[0m\u001b[1;33m\u001b[0m\u001b[0m\n\u001b[1;32m-> 2849\u001b[1;33m                 \u001b[0mloc\u001b[0m \u001b[1;33m=\u001b[0m \u001b[0mself\u001b[0m\u001b[1;33m.\u001b[0m\u001b[0mitems\u001b[0m\u001b[1;33m.\u001b[0m\u001b[0mget_loc\u001b[0m\u001b[1;33m(\u001b[0m\u001b[0mitem\u001b[0m\u001b[1;33m)\u001b[0m\u001b[1;33m\u001b[0m\u001b[0m\n\u001b[0m\u001b[0;32m   2850\u001b[0m             \u001b[1;32melse\u001b[0m\u001b[1;33m:\u001b[0m\u001b[1;33m\u001b[0m\u001b[0m\n\u001b[0;32m   2851\u001b[0m                 \u001b[0mindexer\u001b[0m \u001b[1;33m=\u001b[0m \u001b[0mnp\u001b[0m\u001b[1;33m.\u001b[0m\u001b[0marange\u001b[0m\u001b[1;33m(\u001b[0m\u001b[0mlen\u001b[0m\u001b[1;33m(\u001b[0m\u001b[0mself\u001b[0m\u001b[1;33m.\u001b[0m\u001b[0mitems\u001b[0m\u001b[1;33m)\u001b[0m\u001b[1;33m)\u001b[0m\u001b[1;33m[\u001b[0m\u001b[0misnull\u001b[0m\u001b[1;33m(\u001b[0m\u001b[0mself\u001b[0m\u001b[1;33m.\u001b[0m\u001b[0mitems\u001b[0m\u001b[1;33m)\u001b[0m\u001b[1;33m]\u001b[0m\u001b[1;33m\u001b[0m\u001b[0m\n",
      "\u001b[1;32mC:\\Anaconda\\lib\\site-packages\\pandas\\core\\index.pyc\u001b[0m in \u001b[0;36mget_loc\u001b[1;34m(self, key)\u001b[0m\n\u001b[0;32m   1400\u001b[0m         \u001b[0mloc\u001b[0m \u001b[1;33m:\u001b[0m \u001b[0mint\u001b[0m \u001b[1;32mif\u001b[0m \u001b[0munique\u001b[0m \u001b[0mindex\u001b[0m\u001b[1;33m,\u001b[0m \u001b[0mpossibly\u001b[0m \u001b[0mslice\u001b[0m \u001b[1;32mor\u001b[0m \u001b[0mmask\u001b[0m \u001b[1;32mif\u001b[0m \u001b[1;32mnot\u001b[0m\u001b[1;33m\u001b[0m\u001b[0m\n\u001b[0;32m   1401\u001b[0m         \"\"\"\n\u001b[1;32m-> 1402\u001b[1;33m         \u001b[1;32mreturn\u001b[0m \u001b[0mself\u001b[0m\u001b[1;33m.\u001b[0m\u001b[0m_engine\u001b[0m\u001b[1;33m.\u001b[0m\u001b[0mget_loc\u001b[0m\u001b[1;33m(\u001b[0m\u001b[0m_values_from_object\u001b[0m\u001b[1;33m(\u001b[0m\u001b[0mkey\u001b[0m\u001b[1;33m)\u001b[0m\u001b[1;33m)\u001b[0m\u001b[1;33m\u001b[0m\u001b[0m\n\u001b[0m\u001b[0;32m   1403\u001b[0m \u001b[1;33m\u001b[0m\u001b[0m\n\u001b[0;32m   1404\u001b[0m     \u001b[1;32mdef\u001b[0m \u001b[0mget_value\u001b[0m\u001b[1;33m(\u001b[0m\u001b[0mself\u001b[0m\u001b[1;33m,\u001b[0m \u001b[0mseries\u001b[0m\u001b[1;33m,\u001b[0m \u001b[0mkey\u001b[0m\u001b[1;33m)\u001b[0m\u001b[1;33m:\u001b[0m\u001b[1;33m\u001b[0m\u001b[0m\n",
      "\u001b[1;32mpandas\\index.pyx\u001b[0m in \u001b[0;36mpandas.index.IndexEngine.get_loc (pandas\\index.c:3820)\u001b[1;34m()\u001b[0m\n",
      "\u001b[1;32mpandas\\index.pyx\u001b[0m in \u001b[0;36mpandas.index.IndexEngine.get_loc (pandas\\index.c:3700)\u001b[1;34m()\u001b[0m\n",
      "\u001b[1;32mpandas\\hashtable.pyx\u001b[0m in \u001b[0;36mpandas.hashtable.PyObjectHashTable.get_item (pandas\\hashtable.c:12323)\u001b[1;34m()\u001b[0m\n",
      "\u001b[1;32mpandas\\hashtable.pyx\u001b[0m in \u001b[0;36mpandas.hashtable.PyObjectHashTable.get_item (pandas\\hashtable.c:12274)\u001b[1;34m()\u001b[0m\n",
      "\u001b[1;31mKeyError\u001b[0m: 'AEI Cooling Design Air Flow Rate'"
     ]
    }
   ],
   "source": [
    "model_val = ahu_sizing['Cooling Design Air Flow Rate'].sum()\n",
    "sim_val = ahu_sizing['Maximum Air System Mixed Air Volume Flow Rate'].sum()\n",
    "aei_val = ahu_sizing['AEI Cooling Design Air Flow Rate'].sum()\n",
    "per_diff = (model_val - aei_val) / (aei_val)*100.0\n",
    "\n",
    "print '--------------'\n",
    "print 'Total'\n",
    "print '--------------'\n",
    "print 'Design    : ' + str(model_val) + ' CFM'\n",
    "print 'Simulation: ' + str(sim_val) + ' CFM'\n",
    "print 'AEI       : ' + str(aei_val) + ' CFM'\n",
    "print 'Per Diff  : ' + str(per_diff) + '%'"
   ]
  },
  {
   "cell_type": "markdown",
   "metadata": {},
   "source": [
    "Heating Coils\n",
    "==="
   ]
  },
  {
   "cell_type": "code",
   "execution_count": null,
   "metadata": {
    "collapsed": true
   },
   "outputs": [],
   "source": [
    "heating_coil_sizing = pd.DataFrame()\n",
    "heating_coil_hourly = pd.DataFrame()"
   ]
  },
  {
   "cell_type": "code",
   "execution_count": null,
   "metadata": {
    "collapsed": false
   },
   "outputs": [],
   "source": [
    "report_name = 'EquipmentSummary'\n",
    "report_for_string = 'Entire Facility'\n",
    "table_name = 'Heating Coils'\n",
    "column_name = 'Design Coil Load'\n",
    "\n",
    "sql_query = 'select RowName from TabularDataWithStrings WHERE ReportName=\\'' + report_name + '\\''\n",
    "sql_query += ' and ReportForString=\\'' + report_for_string + '\\''\n",
    "sql_query += ' and TableName=\\'' + table_name + '\\''\n",
    "sql_query += ' and ColumnName=\\'' + column_name + '\\''\n",
    "sql_query += ';'\n",
    "\n",
    "df = pd.read_sql_query(sql_query, con)\n",
    "heating_coil_sizing['Name'] = df\n",
    "heating_coil_sizing.index = heating_coil_sizing['Name']\n",
    "del heating_coil_sizing['Name']"
   ]
  },
  {
   "cell_type": "code",
   "execution_count": null,
   "metadata": {
    "collapsed": false
   },
   "outputs": [],
   "source": [
    "queries = [\n",
    "    ['EquipmentSummary', 'Heating Coils', 'Design Coil Load', 'Design Coil Load', 3.412], \n",
    "]\n",
    "\n",
    "for query in queries:\n",
    "    sql_query = 'select Value from TabularDataWithStrings WHERE ReportName=\\'' + query[0] + '\\''\n",
    "    sql_query += ' and TableName=\\'' + query[1] + '\\''\n",
    "    sql_query += ' and ColumnName=\\'' + query[2] + '\\';'\n",
    "\n",
    "    df = pd.read_sql_query(sql_query, con)\n",
    "    df['Name'] = pd.read_sql_query(sql_query.replace('Value', 'RowName'), con)\n",
    "    df.index = df['Name']\n",
    "    heating_coil_sizing[query[3]] = df['Value'].convert_objects(convert_numeric=True)*query[4]"
   ]
  },
  {
   "cell_type": "code",
   "execution_count": null,
   "metadata": {
    "collapsed": false
   },
   "outputs": [],
   "source": [
    "heating_coil_sizing.head()"
   ]
  },
  {
   "cell_type": "code",
   "execution_count": null,
   "metadata": {
    "collapsed": false
   },
   "outputs": [],
   "source": [
    "#KeyValue = 'SUPPORT AHU'\n",
    "Variables = [\n",
    "    ['Heating Coil Heating Rate', 'Heating Coil Heating Rate', 1/3.412],\n",
    "]\n",
    "\n",
    "KeyValues = list(heating_coil_sizing.index)\n",
    "\n",
    "for i, Variable in enumerate(Variables):\n",
    "    VariableName = Variable[0]\n",
    "    OutputName = Variable[1]\n",
    "    unit_conversion = Variable[2]\n",
    "    min_val = []\n",
    "    max_val = []\n",
    "    index = []\n",
    "    for KeyValue in KeyValues:\n",
    "        sql_query = \"SELECT * FROM ReportVariableDataDictionary\"\n",
    "        sql_query += \" WHERE \"\n",
    "        sql_query += \"KeyValue=\\'\" + KeyValue + \"'\"\n",
    "        sql_query += \" AND \"\n",
    "        sql_query += \"VariableName=\\'\" + VariableName + \"'\"\n",
    "        sql_query += \";\"\n",
    "\n",
    "        df = pd.read_sql_query(sql_query, con)\n",
    "        ReportVariableDataDictionaryIndex = str(df['ReportVariableDataDictionaryIndex'][0])\n",
    "\n",
    "        sql_query = \"SELECT * FROM ReportVariableData\"\n",
    "        sql_query += \" WHERE \"\n",
    "        sql_query += \"ReportVariableDataDictionaryIndex=\\'\" + ReportVariableDataDictionaryIndex + \"'\"\n",
    "        sql_query += \";\"\n",
    "\n",
    "        df = pd.read_sql_query(sql_query, con)\n",
    "        #ReportVariableData = df['VariableValue']\n",
    "        #ReportVariableData.plot()\n",
    "\n",
    "        heating_coil_hourly[KeyValue + ' ' + OutputName] = df['VariableValue']*unit_conversion\n",
    "        \n",
    "        index.append(KeyValue)\n",
    "        min_val.append(df['VariableValue'].min()*unit_conversion)\n",
    "        max_val.append(df['VariableValue'].max()*unit_conversion)\n",
    "\n",
    "    heating_coil_sizing['Minimum ' + OutputName] = pd.Series(min_val, index)\n",
    "    heating_coil_sizing['Maximum ' + OutputName] = pd.Series(max_val, index)"
   ]
  },
  {
   "cell_type": "code",
   "execution_count": null,
   "metadata": {
    "collapsed": false,
    "scrolled": false
   },
   "outputs": [],
   "source": [
    "df = pd.DataFrame({'Design': heating_coil_sizing['Design Coil Load'], \n",
    "                   'Simulation': heating_coil_sizing['Maximum Heating Coil Heating Rate']})\n",
    "ax = df.plot(kind='bar', figsize=(15, 5))\n",
    "ax.set_title('Maximum Heating Coil Load')\n",
    "\n",
    "ax.set_xlabel(\"Heating Coil\")\n",
    "ax.set_ylabel(\"Load [Btu/hr]\")"
   ]
  },
  {
   "cell_type": "code",
   "execution_count": null,
   "metadata": {
    "collapsed": false
   },
   "outputs": [],
   "source": [
    "threshold = 10**6 #Btu/hr\n",
    "load_threshold = heating_coil_sizing[heating_coil_sizing['Design Coil Load'] > threshold]\n",
    "load_threshold = load_threshold.sort(['Design Coil Load'], ascending=[0])\n",
    "\n",
    "print 'Threshold: ' + str(threshold) + ' Btu/hr'\n",
    "print 'Number of coils above threshold: ' + str(load_threshold['Design Coil Load'].count())\n",
    "print load_threshold"
   ]
  },
  {
   "cell_type": "code",
   "execution_count": null,
   "metadata": {
    "collapsed": false,
    "scrolled": true
   },
   "outputs": [],
   "source": [
    "zone_data.loc['THERMAL ZONE: L5-EXAM-9']\n",
    "print zone_data.loc['THERMAL ZONE: L5-EXAM-9']['Design Cooling Load']/1.085/(75-57)\n"
   ]
  },
  {
   "cell_type": "markdown",
   "metadata": {},
   "source": [
    "Close Database Connection\n",
    "==="
   ]
  },
  {
   "cell_type": "code",
   "execution_count": null,
   "metadata": {
    "collapsed": true
   },
   "outputs": [],
   "source": [
    "con.close()"
   ]
  },
  {
   "cell_type": "markdown",
   "metadata": {},
   "source": []
  },
  {
   "cell_type": "code",
   "execution_count": null,
   "metadata": {
    "collapsed": false
   },
   "outputs": [],
   "source": []
  },
  {
   "cell_type": "code",
   "execution_count": null,
   "metadata": {
    "collapsed": false
   },
   "outputs": [],
   "source": []
  },
  {
   "cell_type": "code",
   "execution_count": null,
   "metadata": {
    "collapsed": false
   },
   "outputs": [],
   "source": [
    "\"\"\"\n",
    "report_name = 'HVACSizingSummary'\n",
    "report_for_string = 'Entire Facility'\n",
    "table_name = 'Zone Cooling'\n",
    "column_name = 'Calculated Design Load'\n",
    "\n",
    "for row_name in list(zone_data['Name']):\n",
    "    sql_query = 'select Value from TabularDataWithStrings WHERE ReportName=\\'' + report_name + '\\''\n",
    "    sql_query += ' and ReportForString=\\'' + report_for_string + '\\''\n",
    "    sql_query += ' and TableName=\\'' + table_name + '\\''\n",
    "    sql_query += ' and ColumnName=\\'' + column_name + '\\''\n",
    "    sql_query += ' and RowName=\\'' + row_name + '\\''\n",
    "    sql_query += ';'\n",
    "    df = pd.read_sql_query(sql_query, con)\n",
    "    print df.head()\n",
    "\"\"\""
   ]
  }
 ],
 "metadata": {
  "anaconda-cloud": {},
  "kernelspec": {
   "display_name": "Python [Root]",
   "language": "python",
   "name": "Python [Root]"
  },
  "language_info": {
   "codemirror_mode": {
    "name": "ipython",
    "version": 2
   },
   "file_extension": ".py",
   "mimetype": "text/x-python",
   "name": "python",
   "nbconvert_exporter": "python",
   "pygments_lexer": "ipython2",
   "version": "2.7.12"
  }
 },
 "nbformat": 4,
 "nbformat_minor": 0
}
